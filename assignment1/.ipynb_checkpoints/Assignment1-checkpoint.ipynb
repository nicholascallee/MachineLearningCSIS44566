{
 "cells": [
  {
   "cell_type": "markdown",
   "metadata": {},
   "source": [
    "# Assignment 1 - Introduction to Python"
   ]
  },
  {
   "cell_type": "markdown",
   "metadata": {},
   "source": [
    "## Part 1\n",
    "* Assign x the integer value 3.\n",
    "* Compute and print x, x squared, and x cubed.\n",
    "* Determine if x divided by 3 and then multiplied by 3 is the same as x.\n",
    "* Redo the previous parts but assign x the floating point value 3.0\n",
    "\n",
    "_After the code section, create a MarkDown section and explain your results.  Do you expect the same results if you use // instead of /?_"
   ]
  },
  {
   "cell_type": "code",
   "execution_count": 1,
   "metadata": {},
   "outputs": [
    {
     "name": "stdout",
     "output_type": "stream",
     "text": [
      "3\n",
      "9\n",
      "27\n",
      "new :3.0 old :3\n",
      "3.0\n",
      "9.0\n",
      "27.0\n",
      "1.0\n",
      "new :3.0 old :3.0\n",
      "1.0\n",
      "3.0\n",
      "now with // instead of /\n",
      "new :3.0 old :3.0\n"
     ]
    }
   ],
   "source": [
    "x = 3\n",
    "print(x)\n",
    "print(pow(x,2))\n",
    "print(pow(x,3))\n",
    "\n",
    "new = x/3\n",
    "new = new*3\n",
    "print(\"new :\" + str(new) +\" old :\" + str(x))\n",
    "\n",
    "x = 3.0\n",
    "print(x)\n",
    "print(pow(x,2))\n",
    "print(pow(x,3))\n",
    "\n",
    "new = x/3\n",
    "print(new)\n",
    "new = new*3\n",
    "print(\"new :\" + str(new) +\" old :\" + str(x))\n",
    "\n",
    "new2 = x//3\n",
    "print(new2)\n",
    "new2 = new2*3\n",
    "print(new2)\n",
    "print(\"now with // instead of /\")\n",
    "print(\"new :\" + str(new2) +\" old :\" + str(x))\n"
   ]
  },
  {
   "cell_type": "markdown",
   "metadata": {},
   "source": [
    "// is division with a floor. or known as integer division. it does not give floating point numbers where / does."
   ]
  },
  {
   "cell_type": "markdown",
   "metadata": {},
   "source": [
    "## Part 2\n",
    "* Ask the user for a string and assign it to `words`\n",
    "* Split `words` into a list\n",
    "* Iterate over the list and count the number of words of length less than 4, equal to 4, and greater than 4, and print the results.\n"
   ]
  },
  {
   "cell_type": "code",
   "execution_count": 2,
   "metadata": {},
   "outputs": [
    {
     "name": "stdout",
     "output_type": "stream",
     "text": [
      "split by words\n",
      "enter a string of words please:hello mother\n",
      "['hello', 'mother']\n",
      "words with less than 4 letters: 0. words with 4 letters:0. words with more than 4 letters:2\n"
     ]
    }
   ],
   "source": [
    "\"\"\"\n",
    "\n",
    "print(\"split by characters\")\n",
    "words = input(\"enter a string please:\")\n",
    "myList= list(words)\n",
    "print(myList)\n",
    "\n",
    "\"\"\"\n",
    "\n",
    "print(\"split by words\")\n",
    "words = input(\"enter a string of words please:\")\n",
    "myList= words.split()\n",
    "print(myList)\n",
    "countLess =0\n",
    "count4 = 0\n",
    "countMore= 0\n",
    "for v in myList:\n",
    "    if(int(len(v))<4):\n",
    "        countLess+=1\n",
    "    if(int(len(v))==4):\n",
    "        count4+=1\n",
    "    if(int(len(v))>4):\n",
    "        countMore+=1\n",
    "print(\"words with less than 4 letters: \" + str(countLess)+ \". words with 4 letters:\" +str(count4)+ \". words with more than 4 letters:\" + str(countMore))"
   ]
  },
  {
   "cell_type": "markdown",
   "metadata": {},
   "source": [
    "## Part 3\n",
    "* Use a for loop to compute the first 20 powers of two: 1, 2, 4, 8, ... "
   ]
  },
  {
   "cell_type": "code",
   "execution_count": 3,
   "metadata": {},
   "outputs": [
    {
     "name": "stdout",
     "output_type": "stream",
     "text": [
      "1\n",
      "2\n",
      "4\n",
      "8\n",
      "16\n",
      "32\n",
      "64\n",
      "128\n",
      "256\n",
      "512\n",
      "1024\n",
      "2048\n",
      "4096\n",
      "8192\n",
      "16384\n",
      "32768\n",
      "65536\n",
      "131072\n",
      "262144\n",
      "524288\n",
      "1048576\n",
      "2097152\n",
      "4194304\n",
      "8388608\n",
      "16777216\n",
      "33554432\n",
      "67108864\n",
      "134217728\n",
      "268435456\n",
      "536870912\n",
      "1073741824\n",
      "2147483648\n",
      "4294967296\n",
      "8589934592\n",
      "17179869184\n",
      "34359738368\n",
      "68719476736\n",
      "137438953472\n",
      "274877906944\n",
      "549755813888\n"
     ]
    }
   ],
   "source": [
    "number = 1\n",
    "for i in range(40):\n",
    "    print(pow(2,i))"
   ]
  },
  {
   "cell_type": "markdown",
   "metadata": {},
   "source": [
    "## Part 4\n",
    "* Ask the user for a numeric value x.\n",
    "* Use a while loop to compute a sequence of values where the new value is based on the old value and uses the following formula:\n",
    "\n",
    "$x_{new} = x_{old} - (x_{old}^2-5)/(2x_{old})$\n",
    "\n",
    "Continue as long as the absolute value of the difference between the old and new values is greater than 0.000001.  _Use the abs() function._\n",
    "\n",
    "Note: This will compute the square root of 5 using the Newton-Raphson method.  It requires Calculus, but if you want to learn about finding   zeros of a function it is a good place to start. Also, it is relevant to techniques that we will use later in the course.\n",
    "    "
   ]
  },
  {
   "cell_type": "code",
   "execution_count": 1,
   "metadata": {},
   "outputs": [
    {
     "name": "stdout",
     "output_type": "stream",
     "text": [
      "enter a number please:44\n",
      "done\n"
     ]
    }
   ],
   "source": [
    "value = input(\"enter a number please:\")\n",
    "value = int(value)\n",
    "newValue = value - (pow(value,2)- 5)/(2*value)\n",
    "valueList = []\n",
    "valueList.append(value)\n",
    "valueList.append(newValue)\n",
    "counter = 2\n",
    "while(abs(value/newValue)>.000001):\n",
    "    valueList.append(valueList[counter-1] - (pow(valueList[counter-1],2)- 5)/(2*valueList[counter-1]))\n",
    "    counter+=1\n",
    "    if (counter == 200):\n",
    "        break\n",
    "print(\"done\")\n",
    "    \n"
   ]
  },
  {
   "cell_type": "markdown",
   "metadata": {},
   "source": [
    "## Bonus\n",
    "* Ask the user for an integer value and assign it to n.\n",
    "* Use a for loop to compute n factorial (the product of all the values from 1 to n)\n",
    "* Print the result.\n",
    "* Convert n factorial to a string and assign it to `text`\n",
    "* Use a for loop with `text` to compute and then print the number of zeros in the string.\n",
    "* Print the length of `text`.\n",
    "* Split `text` on the character '7' and print the length of the resulting list.\n",
    "\n",
    "* Try different values of n! and in a new Markdown section discuss how big a value of n you can use before you run into issues and explain what the issues are."
   ]
  },
  {
   "cell_type": "code",
   "execution_count": null,
   "metadata": {},
   "outputs": [],
   "source": [
    "\n",
    "n = int(input(\"enter a number please:\"))\n",
    "nFact = n\n",
    "nCopy = n-1\n",
    "nFact = n*nCopy\n",
    "nCopy = nCopy - 1\n",
    "for i in range(n):\n",
    "    if(nCopy > 0):\n",
    "        nFact *= nCopy\n",
    "        nCopy-=1\n",
    "print (nFact)\n",
    "text = str(nFact)\n",
    "num = 0\n",
    "for x in text:\n",
    "    if (x == '0'):\n",
    "        num+=1\n",
    "print(\"number of zeros:\" +str(num))\n",
    "print(len(text))\n",
    "\n",
    "newText = text.split('7')\n",
    "print(len(newText))"
   ]
  },
  {
   "cell_type": "code",
   "execution_count": null,
   "metadata": {},
   "outputs": [],
   "source": []
  }
 ],
 "metadata": {
  "kernelspec": {
   "display_name": "Python 3",
   "language": "python",
   "name": "python3"
  },
  "language_info": {
   "codemirror_mode": {
    "name": "ipython",
    "version": 3
   },
   "file_extension": ".py",
   "mimetype": "text/x-python",
   "name": "python",
   "nbconvert_exporter": "python",
   "pygments_lexer": "ipython3",
   "version": "3.7.1"
  }
 },
 "nbformat": 4,
 "nbformat_minor": 2
}
