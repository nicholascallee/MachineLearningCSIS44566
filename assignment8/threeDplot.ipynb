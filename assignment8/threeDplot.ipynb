{
 "cells": [
  {
   "cell_type": "markdown",
   "metadata": {},
   "source": [
    "# 3D Plot\n"
   ]
  },
  {
   "cell_type": "markdown",
   "metadata": {},
   "source": [
    "## Visualization \n",
    "For our clustering, we will want to see the data and the more dimensions we can see the better.  We can see three dimensions relatively well.  We can get a fourth dimension through the use of a color map.  We can get a fifth dimension through the use of a size map.\n",
    "\n",
    "We can also use the dimension reduction techniques (like PCA) to help tame the data sprawl.\n",
    "\n",
    "If you change your preferences:Ipython console:graphics:backend to Automatic and then restart Sypder, It will open the graph in an interactive window.\n",
    "\n",
    "If you want the standard, change back to inLine and restart and the plot will be part of the notebook page.\n"
   ]
  },
  {
   "cell_type": "markdown",
   "metadata": {},
   "source": [
    "## Create some data and Scatter plot it\n",
    "\n",
    "This has 5 dimensions, three physical plus color and point size\n"
   ]
  },
  {
   "cell_type": "code",
   "execution_count": 2,
   "metadata": {
    "scrolled": true
   },
   "outputs": [],
   "source": [
    "from mpl_toolkits.mplot3d import Axes3D\n",
    "import matplotlib.pyplot as plt\n",
    "import numpy as np\n",
    "\n",
    "# Fixing random state for reproducibility\n",
    "np.random.seed(19680801)\n",
    "\n",
    "# Creating 600 points  (xs, ys, zs, errors, layer)\n",
    "n = 600\n",
    "\n",
    "# min, max, number of values\n",
    "rs = np.random.uniform(0, 20, n)\n",
    "zs = rs\n",
    "\n",
    "# mean, standard deviation, number of values\n",
    "errors = np.random.normal(0, 2, n)\n",
    "\n",
    "adjusted_rs = rs+errors\n",
    "\n",
    "# making a spiral where theta=r and add in some noise to r.\n",
    "xs = adjusted_rs*np.sin(rs)\n",
    "ys = adjusted_rs*np.cos(rs)\n",
    "\n",
    "# This will be shown by point size... make the difference big enough to see\n",
    "layer = 6*np.floor(adjusted_rs/np.pi)\n",
    "\n",
    "\n",
    "fig = plt.figure()\n",
    "\n",
    "# HERE IS WHERE WE CREATE THE 3D PLOT\n",
    "ax = fig.add_subplot(111, projection='3d')\n",
    "\n",
    "ax.scatter(xs, ys, zs, c=errors, s=layer)\n",
    "\n",
    "ax.set_xlabel('X Label')\n",
    "ax.set_ylabel('Y Label')\n",
    "ax.set_zlabel('Z Label')\n",
    "\n",
    "plt.show()\n"
   ]
  },
  {
   "cell_type": "code",
   "execution_count": null,
   "metadata": {},
   "outputs": [],
   "source": []
  }
 ],
 "metadata": {
  "kernelspec": {
   "display_name": "Python 3 (Spyder)",
   "language": "python3",
   "name": "python3"
  },
  "language_info": {
   "codemirror_mode": {
    "name": "ipython",
    "version": 3
   },
   "file_extension": ".py",
   "mimetype": "text/x-python",
   "name": "python",
   "nbconvert_exporter": "python",
   "pygments_lexer": "ipython3",
   "version": "3.7.1"
  }
 },
 "nbformat": 4,
 "nbformat_minor": 2
}
