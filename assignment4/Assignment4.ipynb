{
 "cells": [
  {
   "cell_type": "markdown",
   "metadata": {},
   "source": [
    "# Assignment 4 - Working on features"
   ]
  },
  {
   "cell_type": "markdown",
   "metadata": {},
   "source": [
    "## Part 1 - Read your data frame."
   ]
  },
  {
   "cell_type": "code",
   "execution_count": 2,
   "metadata": {},
   "outputs": [
    {
     "data": {
      "text/html": [
       "<div>\n",
       "<style scoped>\n",
       "    .dataframe tbody tr th:only-of-type {\n",
       "        vertical-align: middle;\n",
       "    }\n",
       "\n",
       "    .dataframe tbody tr th {\n",
       "        vertical-align: top;\n",
       "    }\n",
       "\n",
       "    .dataframe thead th {\n",
       "        text-align: right;\n",
       "    }\n",
       "</style>\n",
       "<table border=\"1\" class=\"dataframe\">\n",
       "  <thead>\n",
       "    <tr style=\"text-align: right;\">\n",
       "      <th></th>\n",
       "      <th>age</th>\n",
       "      <th>workclass</th>\n",
       "      <th>education</th>\n",
       "      <th>educationNum</th>\n",
       "      <th>relationship</th>\n",
       "      <th>race</th>\n",
       "      <th>sex</th>\n",
       "      <th>capitalGain</th>\n",
       "      <th>capitalLoss</th>\n",
       "      <th>hoursPerWeek</th>\n",
       "      <th>nativeCountry</th>\n",
       "      <th>income</th>\n",
       "    </tr>\n",
       "  </thead>\n",
       "  <tbody>\n",
       "    <tr>\n",
       "      <th>0</th>\n",
       "      <td>90</td>\n",
       "      <td>?</td>\n",
       "      <td>HS-grad</td>\n",
       "      <td>9</td>\n",
       "      <td>Not-in-family</td>\n",
       "      <td>White</td>\n",
       "      <td>Female</td>\n",
       "      <td>0</td>\n",
       "      <td>4356</td>\n",
       "      <td>40</td>\n",
       "      <td>United-States</td>\n",
       "      <td>&lt;=50K</td>\n",
       "    </tr>\n",
       "    <tr>\n",
       "      <th>1</th>\n",
       "      <td>82</td>\n",
       "      <td>Private</td>\n",
       "      <td>HS-grad</td>\n",
       "      <td>9</td>\n",
       "      <td>Not-in-family</td>\n",
       "      <td>White</td>\n",
       "      <td>Female</td>\n",
       "      <td>0</td>\n",
       "      <td>4356</td>\n",
       "      <td>18</td>\n",
       "      <td>United-States</td>\n",
       "      <td>&lt;=50K</td>\n",
       "    </tr>\n",
       "    <tr>\n",
       "      <th>2</th>\n",
       "      <td>66</td>\n",
       "      <td>?</td>\n",
       "      <td>Some-college</td>\n",
       "      <td>10</td>\n",
       "      <td>Unmarried</td>\n",
       "      <td>Black</td>\n",
       "      <td>Female</td>\n",
       "      <td>0</td>\n",
       "      <td>4356</td>\n",
       "      <td>40</td>\n",
       "      <td>United-States</td>\n",
       "      <td>&lt;=50K</td>\n",
       "    </tr>\n",
       "    <tr>\n",
       "      <th>3</th>\n",
       "      <td>54</td>\n",
       "      <td>Private</td>\n",
       "      <td>7th-8th</td>\n",
       "      <td>4</td>\n",
       "      <td>Unmarried</td>\n",
       "      <td>White</td>\n",
       "      <td>Female</td>\n",
       "      <td>0</td>\n",
       "      <td>3900</td>\n",
       "      <td>40</td>\n",
       "      <td>United-States</td>\n",
       "      <td>&lt;=50K</td>\n",
       "    </tr>\n",
       "    <tr>\n",
       "      <th>4</th>\n",
       "      <td>41</td>\n",
       "      <td>Private</td>\n",
       "      <td>Some-college</td>\n",
       "      <td>10</td>\n",
       "      <td>Own-child</td>\n",
       "      <td>White</td>\n",
       "      <td>Female</td>\n",
       "      <td>0</td>\n",
       "      <td>3900</td>\n",
       "      <td>40</td>\n",
       "      <td>United-States</td>\n",
       "      <td>&lt;=50K</td>\n",
       "    </tr>\n",
       "  </tbody>\n",
       "</table>\n",
       "</div>"
      ],
      "text/plain": [
       "   age workclass     education  educationNum   relationship   race     sex  \\\n",
       "0   90         ?       HS-grad             9  Not-in-family  White  Female   \n",
       "1   82   Private       HS-grad             9  Not-in-family  White  Female   \n",
       "2   66         ?  Some-college            10      Unmarried  Black  Female   \n",
       "3   54   Private       7th-8th             4      Unmarried  White  Female   \n",
       "4   41   Private  Some-college            10      Own-child  White  Female   \n",
       "\n",
       "   capitalGain  capitalLoss  hoursPerWeek  nativeCountry income  \n",
       "0            0         4356            40  United-States  <=50K  \n",
       "1            0         4356            18  United-States  <=50K  \n",
       "2            0         4356            40  United-States  <=50K  \n",
       "3            0         3900            40  United-States  <=50K  \n",
       "4            0         3900            40  United-States  <=50K  "
      ]
     },
     "execution_count": 2,
     "metadata": {},
     "output_type": "execute_result"
    }
   ],
   "source": [
    "import pandas as pd\n",
    "data = pd.read_csv(\"adult.csv\")\n",
    "data.head()"
   ]
  },
  {
   "cell_type": "markdown",
   "metadata": {},
   "source": [
    "## Part 2 - Create a new feature.\n",
    "Pick at least two features from your data set and create a new feature based on them.  In the notes describe why you chose the features and how you are combining them."
   ]
  },
  {
   "cell_type": "markdown",
   "metadata": {},
   "source": [
    "### _Notes_\n",
    "i use the educationNum and hoursPerWeek\n",
    "i chose these features because i feel they are very good determinants on how hard of worker you are and i would like to make useful predictions with it.\n",
    "\n",
    "create a new feature with 4 possible values. will make it a work score \n",
    "\n",
    "1        full time college attendee\n",
    "\n",
    "2        full time no college attendee\n",
    "\n",
    "3        part time college attendee\n",
    "\n",
    "4        part time no college attendee\n",
    "\n",
    "\n"
   ]
  },
  {
   "cell_type": "code",
   "execution_count": 3,
   "metadata": {},
   "outputs": [
    {
     "name": "stdout",
     "output_type": "stream",
     "text": [
      "0         49\n",
      "1         27\n",
      "2         50\n",
      "3         44\n",
      "4         50\n",
      "5         54\n",
      "6         46\n",
      "7         36\n",
      "8         49\n",
      "9         70\n",
      "10        51\n",
      "11        60\n",
      "12        33\n",
      "13        69\n",
      "14        56\n",
      "15        55\n",
      "16        83\n",
      "17        64\n",
      "18        52\n",
      "19        63\n",
      "20        53\n",
      "21        49\n",
      "22        34\n",
      "23        50\n",
      "24        41\n",
      "25        51\n",
      "26        34\n",
      "27        43\n",
      "28        56\n",
      "29        96\n",
      "        ... \n",
      "32531     49\n",
      "32532     44\n",
      "32533     68\n",
      "32534    112\n",
      "32535     76\n",
      "32536     63\n",
      "32537     49\n",
      "32538     43\n",
      "32539     68\n",
      "32540     55\n",
      "32541     26\n",
      "32542     49\n",
      "32543     41\n",
      "32544     34\n",
      "32545     60\n",
      "32546     44\n",
      "32547     32\n",
      "32548     52\n",
      "32549     49\n",
      "32550     50\n",
      "32551     60\n",
      "32552     46\n",
      "32553     56\n",
      "32554     25\n",
      "32555     54\n",
      "32556     50\n",
      "32557     50\n",
      "32558     49\n",
      "32559     49\n",
      "32560     29\n",
      "Name: workScore, Length: 32561, dtype: int64\n"
     ]
    }
   ],
   "source": [
    "def workScore (hoursPerWeek, educationNum):\n",
    "    if (hours.per.week >= 40):\n",
    "        if (educationNum >= 10):\n",
    "            return 4\n",
    "        return 3\n",
    "    else:\n",
    "        if (educationNum >= 10):\n",
    "            return 2\n",
    "        return 1\n",
    "#columns = [\"hoursPerWeek\",\"educationNum\"]\n",
    "#value = data[columns].map(workScore)\n",
    "# i think the issue is that im trying to do this with columns being 2 different features in the dataset\n",
    "data[\"workScore\"] = data[\"hoursPerWeek\"]+data[\"educationNum\"]\n",
    "#divide each by max then add then divide by 2\n",
    "print(data[\"workScore\"])\n",
    "    "
   ]
  },
  {
   "cell_type": "markdown",
   "metadata": {},
   "source": [
    "## Part 3 - Split the data frame\n",
    "\n",
    "Use the train_test_split() function to split the data set into two equal pieces."
   ]
  },
  {
   "cell_type": "code",
   "execution_count": 4,
   "metadata": {},
   "outputs": [
    {
     "name": "stdout",
     "output_type": "stream",
     "text": [
      "26048\n",
      "6513\n",
      "0.7999754307300144\n"
     ]
    }
   ],
   "source": [
    "from sklearn.model_selection import train_test_split\n",
    "\n",
    "train_set, test_set = train_test_split(data, test_size=0.2,\n",
    "random_state=123)\n",
    "\n",
    "print(len(train_set))\n",
    "print(len(test_set))\n",
    "print(len(train_set)/(len(test_set)+len(train_set)))"
   ]
  },
  {
   "cell_type": "markdown",
   "metadata": {},
   "source": [
    "## Part 4 - Pick a feature to create categories for\n",
    "\n",
    "i pick the nativeCountry feature to create categories for.\n",
    "\n",
    "1. Why did you pick the feature?\n",
    "\n",
    "this dataset has features that have already been made from other features such as the educationNum. I picked nativeCountry because splitting it into categories could show data for a given region rather than a given country.\n",
    "\n",
    "2. Describe how you will create the groups.\n",
    "\n",
    "im going to make 2 groups. those from north america(united states,mexico,and cannada), and those not from north america.\n",
    "\n",
    "3. What is your reason for the groupings?\n",
    "\n",
    "same reason as question 1. i want to see data based on region rather than on country\n",
    "\n",
    "4. Are any of your categories small in size?\n",
    "\n",
    "they are not. both are fairly large"
   ]
  },
  {
   "cell_type": "markdown",
   "metadata": {},
   "source": [
    "### _Notes_\n",
    "(Your notes here!)"
   ]
  },
  {
   "cell_type": "code",
   "execution_count": 5,
   "metadata": {},
   "outputs": [
    {
     "data": {
      "text/plain": [
       "United-States                 29170\n",
       "Mexico                          643\n",
       "?                               583\n",
       "Philippines                     198\n",
       "Germany                         137\n",
       "Canada                          121\n",
       "Puerto-Rico                     114\n",
       "El-Salvador                     106\n",
       "India                           100\n",
       "Cuba                             95\n",
       "England                          90\n",
       "Jamaica                          81\n",
       "South                            80\n",
       "China                            75\n",
       "Italy                            73\n",
       "Dominican-Republic               70\n",
       "Vietnam                          67\n",
       "Guatemala                        64\n",
       "Japan                            62\n",
       "Poland                           60\n",
       "Columbia                         59\n",
       "Taiwan                           51\n",
       "Haiti                            44\n",
       "Iran                             43\n",
       "Portugal                         37\n",
       "Nicaragua                        34\n",
       "Peru                             31\n",
       "Greece                           29\n",
       "France                           29\n",
       "Ecuador                          28\n",
       "Ireland                          24\n",
       "Hong                             20\n",
       "Trinadad&Tobago                  19\n",
       "Cambodia                         19\n",
       "Thailand                         18\n",
       "Laos                             18\n",
       "Yugoslavia                       16\n",
       "Outlying-US(Guam-USVI-etc)       14\n",
       "Hungary                          13\n",
       "Honduras                         13\n",
       "Scotland                         12\n",
       "Holand-Netherlands                1\n",
       "Name: nativeCountry, dtype: int64"
      ]
     },
     "execution_count": 5,
     "metadata": {},
     "output_type": "execute_result"
    }
   ],
   "source": [
    "data[\"nativeCountry\"].value_counts()"
   ]
  },
  {
   "cell_type": "markdown",
   "metadata": {},
   "source": [
    "## Part 5 - Create the category groups"
   ]
  },
  {
   "cell_type": "code",
   "execution_count": 6,
   "metadata": {},
   "outputs": [
    {
     "data": {
      "text/html": [
       "<div>\n",
       "<style scoped>\n",
       "    .dataframe tbody tr th:only-of-type {\n",
       "        vertical-align: middle;\n",
       "    }\n",
       "\n",
       "    .dataframe tbody tr th {\n",
       "        vertical-align: top;\n",
       "    }\n",
       "\n",
       "    .dataframe thead th {\n",
       "        text-align: right;\n",
       "    }\n",
       "</style>\n",
       "<table border=\"1\" class=\"dataframe\">\n",
       "  <thead>\n",
       "    <tr style=\"text-align: right;\">\n",
       "      <th></th>\n",
       "      <th>age</th>\n",
       "      <th>workclass</th>\n",
       "      <th>education</th>\n",
       "      <th>educationNum</th>\n",
       "      <th>relationship</th>\n",
       "      <th>race</th>\n",
       "      <th>sex</th>\n",
       "      <th>capitalGain</th>\n",
       "      <th>capitalLoss</th>\n",
       "      <th>hoursPerWeek</th>\n",
       "      <th>nativeCountry</th>\n",
       "      <th>income</th>\n",
       "      <th>workScore</th>\n",
       "      <th>northAmerican</th>\n",
       "    </tr>\n",
       "  </thead>\n",
       "  <tbody>\n",
       "    <tr>\n",
       "      <th>0</th>\n",
       "      <td>90</td>\n",
       "      <td>?</td>\n",
       "      <td>HS-grad</td>\n",
       "      <td>9</td>\n",
       "      <td>Not-in-family</td>\n",
       "      <td>White</td>\n",
       "      <td>Female</td>\n",
       "      <td>0</td>\n",
       "      <td>4356</td>\n",
       "      <td>40</td>\n",
       "      <td>United-States</td>\n",
       "      <td>&lt;=50K</td>\n",
       "      <td>49</td>\n",
       "      <td>1</td>\n",
       "    </tr>\n",
       "    <tr>\n",
       "      <th>1</th>\n",
       "      <td>82</td>\n",
       "      <td>Private</td>\n",
       "      <td>HS-grad</td>\n",
       "      <td>9</td>\n",
       "      <td>Not-in-family</td>\n",
       "      <td>White</td>\n",
       "      <td>Female</td>\n",
       "      <td>0</td>\n",
       "      <td>4356</td>\n",
       "      <td>18</td>\n",
       "      <td>United-States</td>\n",
       "      <td>&lt;=50K</td>\n",
       "      <td>27</td>\n",
       "      <td>1</td>\n",
       "    </tr>\n",
       "    <tr>\n",
       "      <th>2</th>\n",
       "      <td>66</td>\n",
       "      <td>?</td>\n",
       "      <td>Some-college</td>\n",
       "      <td>10</td>\n",
       "      <td>Unmarried</td>\n",
       "      <td>Black</td>\n",
       "      <td>Female</td>\n",
       "      <td>0</td>\n",
       "      <td>4356</td>\n",
       "      <td>40</td>\n",
       "      <td>United-States</td>\n",
       "      <td>&lt;=50K</td>\n",
       "      <td>50</td>\n",
       "      <td>1</td>\n",
       "    </tr>\n",
       "    <tr>\n",
       "      <th>3</th>\n",
       "      <td>54</td>\n",
       "      <td>Private</td>\n",
       "      <td>7th-8th</td>\n",
       "      <td>4</td>\n",
       "      <td>Unmarried</td>\n",
       "      <td>White</td>\n",
       "      <td>Female</td>\n",
       "      <td>0</td>\n",
       "      <td>3900</td>\n",
       "      <td>40</td>\n",
       "      <td>United-States</td>\n",
       "      <td>&lt;=50K</td>\n",
       "      <td>44</td>\n",
       "      <td>1</td>\n",
       "    </tr>\n",
       "    <tr>\n",
       "      <th>4</th>\n",
       "      <td>41</td>\n",
       "      <td>Private</td>\n",
       "      <td>Some-college</td>\n",
       "      <td>10</td>\n",
       "      <td>Own-child</td>\n",
       "      <td>White</td>\n",
       "      <td>Female</td>\n",
       "      <td>0</td>\n",
       "      <td>3900</td>\n",
       "      <td>40</td>\n",
       "      <td>United-States</td>\n",
       "      <td>&lt;=50K</td>\n",
       "      <td>50</td>\n",
       "      <td>1</td>\n",
       "    </tr>\n",
       "  </tbody>\n",
       "</table>\n",
       "</div>"
      ],
      "text/plain": [
       "   age workclass     education  educationNum   relationship   race     sex  \\\n",
       "0   90         ?       HS-grad             9  Not-in-family  White  Female   \n",
       "1   82   Private       HS-grad             9  Not-in-family  White  Female   \n",
       "2   66         ?  Some-college            10      Unmarried  Black  Female   \n",
       "3   54   Private       7th-8th             4      Unmarried  White  Female   \n",
       "4   41   Private  Some-college            10      Own-child  White  Female   \n",
       "\n",
       "   capitalGain  capitalLoss  hoursPerWeek  nativeCountry income  workScore  \\\n",
       "0            0         4356            40  United-States  <=50K         49   \n",
       "1            0         4356            18  United-States  <=50K         27   \n",
       "2            0         4356            40  United-States  <=50K         50   \n",
       "3            0         3900            40  United-States  <=50K         44   \n",
       "4            0         3900            40  United-States  <=50K         50   \n",
       "\n",
       "   northAmerican  \n",
       "0              1  \n",
       "1              1  \n",
       "2              1  \n",
       "3              1  \n",
       "4              1  "
      ]
     },
     "execution_count": 6,
     "metadata": {},
     "output_type": "execute_result"
    }
   ],
   "source": [
    "def northAmericanOrNah (nativeCountry):\n",
    "    if (nativeCountry == \"United-States\"):\n",
    "        return 1\n",
    "    if (nativeCountry == \"Mexico\"):\n",
    "        return 1\n",
    "    if (nativeCountry == \"Cannada\"):\n",
    "        return 1\n",
    "    else:\n",
    "        return 0\n",
    "value = data[\"nativeCountry\"].map(northAmericanOrNah)\n",
    "data[\"northAmerican\"] = value\n",
    "data.head()"
   ]
  },
  {
   "cell_type": "markdown",
   "metadata": {},
   "source": [
    "## Part 6 - Do a stratified split\n",
    "Use the category group feature you created to perform a stratified split on the data."
   ]
  },
  {
   "cell_type": "code",
   "execution_count": 7,
   "metadata": {},
   "outputs": [],
   "source": [
    "from sklearn.model_selection import StratifiedShuffleSplit\n",
    "splitter = StratifiedShuffleSplit(n_splits = 1, test_size=0.2, random_state=123)\n",
    "for train_indices, test_indices in splitter.split(data, data[\"northAmerican\"]):\n",
    " #the body only executes once because the number of splits (folds) is one\n",
    " train_set = data.iloc[train_indices]\n",
    " test_set = data.iloc[test_indices]"
   ]
  },
  {
   "cell_type": "markdown",
   "metadata": {},
   "source": [
    "## Part 7 - Look at the training and test sets\n",
    "Use info() and value_counts() on the training and test sets to verify that the split was successfl. "
   ]
  },
  {
   "cell_type": "code",
   "execution_count": 8,
   "metadata": {},
   "outputs": [
    {
     "name": "stdout",
     "output_type": "stream",
     "text": [
      "1    29813\n",
      "0     2748\n",
      "Name: northAmerican, dtype: int64\n",
      "1    5963\n",
      "0     550\n",
      "Name: northAmerican, dtype: int64\n",
      "1    23850\n",
      "0     2198\n",
      "Name: northAmerican, dtype: int64\n"
     ]
    }
   ],
   "source": [
    "print(data[\"northAmerican\"].value_counts())\n",
    "print(test_set[\"northAmerican\"].value_counts())\n",
    "print(train_set[\"northAmerican\"].value_counts())\n"
   ]
  },
  {
   "cell_type": "markdown",
   "metadata": {},
   "source": [
    "looks like the stratified split worked. all have maintained the same ratio"
   ]
  },
  {
   "cell_type": "markdown",
   "metadata": {},
   "source": [
    "# Bonus\n"
   ]
  },
  {
   "cell_type": "markdown",
   "metadata": {},
   "source": [
    "1. Experiment with the n_splits for the StratifiedShuffleSplit.  Describe what you observe.\n",
    "2. Experiment with the random_state for the StratifiedShuffleSplit. Describe what you observe."
   ]
  },
  {
   "cell_type": "code",
   "execution_count": 13,
   "metadata": {},
   "outputs": [],
   "source": [
    "from sklearn.model_selection import StratifiedShuffleSplit\n",
    "splitter = StratifiedShuffleSplit(n_splits = 33, test_size=0.2, random_state=434232)\n",
    "for train_indices, test_indices in splitter.split(data, data[\"northAmerican\"]):\n",
    " #the body only executes once because the number of splits (folds) is one\n",
    " train_set = data.iloc[train_indices]\n",
    " test_set = data.iloc[test_indices]"
   ]
  },
  {
   "cell_type": "code",
   "execution_count": 14,
   "metadata": {},
   "outputs": [
    {
     "name": "stdout",
     "output_type": "stream",
     "text": [
      "1    29813\n",
      "0     2748\n",
      "Name: northAmerican, dtype: int64\n",
      "1    5963\n",
      "0     550\n",
      "Name: northAmerican, dtype: int64\n",
      "1    23850\n",
      "0     2198\n",
      "Name: northAmerican, dtype: int64\n"
     ]
    }
   ],
   "source": [
    "print(data[\"northAmerican\"].value_counts())\n",
    "print(test_set[\"northAmerican\"].value_counts())\n",
    "print(train_set[\"northAmerican\"].value_counts())"
   ]
  },
  {
   "cell_type": "markdown",
   "metadata": {},
   "source": [
    "i tested the same thing but with a different number for n_splits as well as random_state. The value counts were the same. "
   ]
  },
  {
   "cell_type": "code",
   "execution_count": null,
   "metadata": {},
   "outputs": [],
   "source": []
  }
 ],
 "metadata": {
  "kernelspec": {
   "display_name": "Python 3",
   "language": "python",
   "name": "python3"
  },
  "language_info": {
   "codemirror_mode": {
    "name": "ipython",
    "version": 3
   },
   "file_extension": ".py",
   "mimetype": "text/x-python",
   "name": "python",
   "nbconvert_exporter": "python",
   "pygments_lexer": "ipython3",
   "version": "3.7.1"
  }
 },
 "nbformat": 4,
 "nbformat_minor": 2
}
