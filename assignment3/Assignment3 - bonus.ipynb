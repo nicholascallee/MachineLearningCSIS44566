{
 "cells": [
  {
   "cell_type": "markdown",
   "metadata": {},
   "source": [
    "# Assignment 3 - Acquiring Data"
   ]
  },
  {
   "cell_type": "markdown",
   "metadata": {},
   "source": [
    "## Part 1 - Ask a question!"
   ]
  },
  {
   "cell_type": "markdown",
   "metadata": {},
   "source": [
    "## _Notes_"
   ]
  },
  {
   "cell_type": "markdown",
   "metadata": {},
   "source": [
    "## Find data set/s related to that question\n",
    "There are a lot of open data sets out there that you can access. Some places that you can find data sets are listed below, but there are plenty of data sets out there.\n",
    "\n",
    "1. Kaggle - Lots of interesting data sets  https://www.kaggle.com/datasets\n",
    "1. UC Irvine Machine Learning Repo - A venerable source of data.  Some what dated now.  http://mlr.cs.umass.edu/ml/\n",
    "1. US government.  The open data sets from the US government. https://catalog.data.gov/dataset (_Many organinizations/governments make data sets available. I have given three, but check around for others._) \n",
    "1. UK data sets https://www.ukdataservice.ac.uk\n",
    "1. IMF data setshttps://www.imf.org/en/Data\n",
    "1. Amazon AWS data sets - Data sets that can be aquired through AWS services https://registry.opendata.aws\n",
    "1. Wikipedia list of data sets - https://en.wikipedia.org/wiki/List_of_datasets_for_machine_learning_research\n",
    "1. 538 - Politics and sports opinions https://fivethirtyeight.com\n",
    "1. Awesome data - a collection of data sets on github https://github.com/awesomedata/awesome-public-datasets\n",
    "\n",
    "One final option is to scrape data from existing web sites and build your own data set."
   ]
  },
  {
   "cell_type": "markdown",
   "metadata": {},
   "source": [
    "## Part 2 - Acquire the data\n",
    "You may want to create a work space and then download the data set into the workspace so you have a local copy to work with.  If you are working with a very large data set, you may choose to only download a part of the set."
   ]
  },
  {
   "cell_type": "markdown",
   "metadata": {},
   "source": [
    "# _Notes_\n",
    "\n",
    "\n",
    "URL:"
   ]
  },
  {
   "cell_type": "markdown",
   "metadata": {},
   "source": [
    "## Look at the forrest of the data\n",
    "At this point we want to look at the overall picture of the data.  We are not yet trying to do a detailed analysis, but there are some basic questions we want to answer about our data set.\n",
    "\n",
    "1. In each record of data what are the features?\n",
    "2. What are the range of values (min, median/average, max)\n",
    "3. Do I have values that are not numeric?\n",
    "4. Do I have records that are missing features?\n"
   ]
  },
  {
   "cell_type": "markdown",
   "metadata": {},
   "source": [
    "# Part 3 - Read the CSV into a DataFrame\n",
    "\n",
    "Now that we have a CSV file to work with, lets use pandas to examine the data.\n",
    "\n",
    "The first thing we will do is to pull all the data from the CSV file into a pandas dataframe and then look at the keys and the first five lines using the head() function."
   ]
  },
  {
   "cell_type": "code",
   "execution_count": 2,
   "metadata": {},
   "outputs": [
    {
     "data": {
      "text/html": [
       "<div>\n",
       "<style scoped>\n",
       "    .dataframe tbody tr th:only-of-type {\n",
       "        vertical-align: middle;\n",
       "    }\n",
       "\n",
       "    .dataframe tbody tr th {\n",
       "        vertical-align: top;\n",
       "    }\n",
       "\n",
       "    .dataframe thead th {\n",
       "        text-align: right;\n",
       "    }\n",
       "</style>\n",
       "<table border=\"1\" class=\"dataframe\">\n",
       "  <thead>\n",
       "    <tr style=\"text-align: right;\">\n",
       "      <th></th>\n",
       "      <th>date</th>\n",
       "      <th>open</th>\n",
       "      <th>high</th>\n",
       "      <th>low</th>\n",
       "      <th>close</th>\n",
       "      <th>volume</th>\n",
       "      <th>unadjustedVolume</th>\n",
       "      <th>change</th>\n",
       "      <th>changePercent</th>\n",
       "      <th>vwap</th>\n",
       "      <th>label</th>\n",
       "      <th>changeOverTime</th>\n",
       "    </tr>\n",
       "  </thead>\n",
       "  <tbody>\n",
       "    <tr>\n",
       "      <th>0</th>\n",
       "      <td>2014-01-30</td>\n",
       "      <td>65.8882</td>\n",
       "      <td>66.4074</td>\n",
       "      <td>65.1226</td>\n",
       "      <td>65.5266</td>\n",
       "      <td>169762789</td>\n",
       "      <td>24251827</td>\n",
       "      <td>-0.126916</td>\n",
       "      <td>-0.193</td>\n",
       "      <td>71.9614</td>\n",
       "      <td>Jan 30, 14</td>\n",
       "      <td>0.000000</td>\n",
       "    </tr>\n",
       "    <tr>\n",
       "      <th>1</th>\n",
       "      <td>2014-01-31</td>\n",
       "      <td>64.9233</td>\n",
       "      <td>65.7558</td>\n",
       "      <td>64.7096</td>\n",
       "      <td>65.6339</td>\n",
       "      <td>116336444</td>\n",
       "      <td>16619492</td>\n",
       "      <td>0.107251</td>\n",
       "      <td>0.164</td>\n",
       "      <td>71.6528</td>\n",
       "      <td>Jan 31, 14</td>\n",
       "      <td>0.001638</td>\n",
       "    </tr>\n",
       "    <tr>\n",
       "      <th>2</th>\n",
       "      <td>2014-02-03</td>\n",
       "      <td>65.8974</td>\n",
       "      <td>66.5687</td>\n",
       "      <td>65.4634</td>\n",
       "      <td>65.7558</td>\n",
       "      <td>100620772</td>\n",
       "      <td>14374396</td>\n",
       "      <td>0.121932</td>\n",
       "      <td>0.186</td>\n",
       "      <td>65.9462</td>\n",
       "      <td>Feb 3, 14</td>\n",
       "      <td>0.003498</td>\n",
       "    </tr>\n",
       "    <tr>\n",
       "      <th>3</th>\n",
       "      <td>2014-02-04</td>\n",
       "      <td>66.3222</td>\n",
       "      <td>66.7955</td>\n",
       "      <td>65.9171</td>\n",
       "      <td>66.7077</td>\n",
       "      <td>94273543</td>\n",
       "      <td>13467649</td>\n",
       "      <td>0.951860</td>\n",
       "      <td>1.448</td>\n",
       "      <td>67.9120</td>\n",
       "      <td>Feb 4, 14</td>\n",
       "      <td>0.018025</td>\n",
       "    </tr>\n",
       "    <tr>\n",
       "      <th>4</th>\n",
       "      <td>2014-02-05</td>\n",
       "      <td>66.4153</td>\n",
       "      <td>67.5586</td>\n",
       "      <td>66.3749</td>\n",
       "      <td>67.2059</td>\n",
       "      <td>82322156</td>\n",
       "      <td>11760308</td>\n",
       "      <td>0.498221</td>\n",
       "      <td>0.747</td>\n",
       "      <td>67.1585</td>\n",
       "      <td>Feb 5, 14</td>\n",
       "      <td>0.025628</td>\n",
       "    </tr>\n",
       "  </tbody>\n",
       "</table>\n",
       "</div>"
      ],
      "text/plain": [
       "         date     open     high      low    close     volume  \\\n",
       "0  2014-01-30  65.8882  66.4074  65.1226  65.5266  169762789   \n",
       "1  2014-01-31  64.9233  65.7558  64.7096  65.6339  116336444   \n",
       "2  2014-02-03  65.8974  66.5687  65.4634  65.7558  100620772   \n",
       "3  2014-02-04  66.3222  66.7955  65.9171  66.7077   94273543   \n",
       "4  2014-02-05  66.4153  67.5586  66.3749  67.2059   82322156   \n",
       "\n",
       "   unadjustedVolume    change  changePercent     vwap       label  \\\n",
       "0          24251827 -0.126916         -0.193  71.9614  Jan 30, 14   \n",
       "1          16619492  0.107251          0.164  71.6528  Jan 31, 14   \n",
       "2          14374396  0.121932          0.186  65.9462   Feb 3, 14   \n",
       "3          13467649  0.951860          1.448  67.9120   Feb 4, 14   \n",
       "4          11760308  0.498221          0.747  67.1585   Feb 5, 14   \n",
       "\n",
       "   changeOverTime  \n",
       "0        0.000000  \n",
       "1        0.001638  \n",
       "2        0.003498  \n",
       "3        0.018025  \n",
       "4        0.025628  "
      ]
     },
     "execution_count": 2,
     "metadata": {},
     "output_type": "execute_result"
    }
   ],
   "source": [
    "import pandas as pd\n",
    "data = pd.read_csv(\"AAPL.csv\")\n",
    "data.head()"
   ]
  },
  {
   "cell_type": "markdown",
   "metadata": {},
   "source": [
    "## _Notes_ \n"
   ]
  },
  {
   "cell_type": "markdown",
   "metadata": {},
   "source": [
    "## Part 4 - Quick Overview\n",
    "Lets get a quick overview of the data using the info() function."
   ]
  },
  {
   "cell_type": "code",
   "execution_count": 3,
   "metadata": {},
   "outputs": [
    {
     "name": "stdout",
     "output_type": "stream",
     "text": [
      "<class 'pandas.core.frame.DataFrame'>\n",
      "RangeIndex: 1258 entries, 0 to 1257\n",
      "Data columns (total 12 columns):\n",
      "date                1258 non-null object\n",
      "open                1258 non-null float64\n",
      "high                1258 non-null float64\n",
      "low                 1258 non-null float64\n",
      "close               1258 non-null float64\n",
      "volume              1258 non-null int64\n",
      "unadjustedVolume    1258 non-null int64\n",
      "change              1258 non-null float64\n",
      "changePercent       1258 non-null float64\n",
      "vwap                1258 non-null float64\n",
      "label               1258 non-null object\n",
      "changeOverTime      1258 non-null float64\n",
      "dtypes: float64(8), int64(2), object(2)\n",
      "memory usage: 118.0+ KB\n"
     ]
    }
   ],
   "source": [
    "data.info()"
   ]
  },
  {
   "cell_type": "markdown",
   "metadata": {},
   "source": [
    "## _Notes_\n"
   ]
  },
  {
   "cell_type": "markdown",
   "metadata": {},
   "source": [
    "## Part 5 - Look at the object fields\n",
    "We can pull out information about the Gender field using the value_counts() method"
   ]
  },
  {
   "cell_type": "code",
   "execution_count": 8,
   "metadata": {},
   "outputs": [
    {
     "data": {
      "text/plain": [
       "118.9103    2\n",
       "155.0072    2\n",
       "118.3579    2\n",
       "117.8336    2\n",
       "91.5512     2\n",
       "110.5156    2\n",
       "174.6775    2\n",
       "190.4452    2\n",
       "90.8038     2\n",
       "110.2706    2\n",
       "153.5794    2\n",
       "111.5829    2\n",
       "109.5962    2\n",
       "112.3749    2\n",
       "103.8916    2\n",
       "116.3538    2\n",
       "167.6431    2\n",
       "95.0062     2\n",
       "88.1126     2\n",
       "150.5873    2\n",
       "104.6961    2\n",
       "185.0530    2\n",
       "112.2815    2\n",
       "157.5000    2\n",
       "186.6915    2\n",
       "89.2302     2\n",
       "109.3927    1\n",
       "110.3092    1\n",
       "104.4351    1\n",
       "113.0626    1\n",
       "           ..\n",
       "93.5002     1\n",
       "101.3097    1\n",
       "119.9403    1\n",
       "173.5741    1\n",
       "103.5951    1\n",
       "90.2034     1\n",
       "227.1674    1\n",
       "101.8702    1\n",
       "142.9177    1\n",
       "92.0511     1\n",
       "154.2000    1\n",
       "140.1423    1\n",
       "69.7449     1\n",
       "217.3018    1\n",
       "182.8187    1\n",
       "118.0302    1\n",
       "110.5490    1\n",
       "117.5548    1\n",
       "106.1764    1\n",
       "140.5124    1\n",
       "170.7958    1\n",
       "108.4860    1\n",
       "126.5736    1\n",
       "178.3700    1\n",
       "171.5938    1\n",
       "103.2412    1\n",
       "117.8804    1\n",
       "118.6549    1\n",
       "90.1897     1\n",
       "120.5489    1\n",
       "Name: open, Length: 1232, dtype: int64"
      ]
     },
     "execution_count": 8,
     "metadata": {},
     "output_type": "execute_result"
    }
   ],
   "source": [
    "data['open'].value_counts()"
   ]
  },
  {
   "cell_type": "markdown",
   "metadata": {},
   "source": [
    "## _Notes_\n"
   ]
  },
  {
   "cell_type": "markdown",
   "metadata": {},
   "source": [
    "## Part 6 - Look at the numerical fields\n",
    "We can look at numerical fields using the describe() function. We get some basic information."
   ]
  },
  {
   "cell_type": "code",
   "execution_count": 9,
   "metadata": {},
   "outputs": [
    {
     "data": {
      "text/html": [
       "<div>\n",
       "<style scoped>\n",
       "    .dataframe tbody tr th:only-of-type {\n",
       "        vertical-align: middle;\n",
       "    }\n",
       "\n",
       "    .dataframe tbody tr th {\n",
       "        vertical-align: top;\n",
       "    }\n",
       "\n",
       "    .dataframe thead th {\n",
       "        text-align: right;\n",
       "    }\n",
       "</style>\n",
       "<table border=\"1\" class=\"dataframe\">\n",
       "  <thead>\n",
       "    <tr style=\"text-align: right;\">\n",
       "      <th></th>\n",
       "      <th>open</th>\n",
       "      <th>high</th>\n",
       "      <th>low</th>\n",
       "      <th>close</th>\n",
       "      <th>volume</th>\n",
       "      <th>unadjustedVolume</th>\n",
       "      <th>change</th>\n",
       "      <th>changePercent</th>\n",
       "      <th>vwap</th>\n",
       "      <th>changeOverTime</th>\n",
       "    </tr>\n",
       "  </thead>\n",
       "  <tbody>\n",
       "    <tr>\n",
       "      <th>count</th>\n",
       "      <td>1258.000000</td>\n",
       "      <td>1258.000000</td>\n",
       "      <td>1258.000000</td>\n",
       "      <td>1258.000000</td>\n",
       "      <td>1.258000e+03</td>\n",
       "      <td>1.258000e+03</td>\n",
       "      <td>1258.000000</td>\n",
       "      <td>1258.000000</td>\n",
       "      <td>1258.000000</td>\n",
       "      <td>1258.000000</td>\n",
       "    </tr>\n",
       "    <tr>\n",
       "      <th>mean</th>\n",
       "      <td>127.943792</td>\n",
       "      <td>129.049331</td>\n",
       "      <td>126.820980</td>\n",
       "      <td>127.964891</td>\n",
       "      <td>4.199825e+07</td>\n",
       "      <td>3.759173e+07</td>\n",
       "      <td>0.070769</td>\n",
       "      <td>0.079814</td>\n",
       "      <td>127.982681</td>\n",
       "      <td>0.952869</td>\n",
       "    </tr>\n",
       "    <tr>\n",
       "      <th>std</th>\n",
       "      <td>38.677967</td>\n",
       "      <td>39.036716</td>\n",
       "      <td>38.294054</td>\n",
       "      <td>38.663478</td>\n",
       "      <td>2.192838e+07</td>\n",
       "      <td>2.038429e+07</td>\n",
       "      <td>2.109995</td>\n",
       "      <td>1.527023</td>\n",
       "      <td>38.651609</td>\n",
       "      <td>0.590042</td>\n",
       "    </tr>\n",
       "    <tr>\n",
       "      <th>min</th>\n",
       "      <td>64.923300</td>\n",
       "      <td>65.755800</td>\n",
       "      <td>64.709600</td>\n",
       "      <td>65.526600</td>\n",
       "      <td>1.147592e+07</td>\n",
       "      <td>5.704942e+06</td>\n",
       "      <td>-15.730000</td>\n",
       "      <td>-9.961000</td>\n",
       "      <td>57.582200</td>\n",
       "      <td>0.000000</td>\n",
       "    </tr>\n",
       "    <tr>\n",
       "      <th>25%</th>\n",
       "      <td>100.031550</td>\n",
       "      <td>101.326975</td>\n",
       "      <td>99.192350</td>\n",
       "      <td>99.896675</td>\n",
       "      <td>2.645360e+07</td>\n",
       "      <td>2.412655e+07</td>\n",
       "      <td>-0.728529</td>\n",
       "      <td>-0.605750</td>\n",
       "      <td>100.245275</td>\n",
       "      <td>0.524521</td>\n",
       "    </tr>\n",
       "    <tr>\n",
       "      <th>50%</th>\n",
       "      <td>115.146650</td>\n",
       "      <td>116.407000</td>\n",
       "      <td>114.623050</td>\n",
       "      <td>115.426500</td>\n",
       "      <td>3.642551e+07</td>\n",
       "      <td>3.357334e+07</td>\n",
       "      <td>0.069177</td>\n",
       "      <td>0.065000</td>\n",
       "      <td>115.472200</td>\n",
       "      <td>0.761521</td>\n",
       "    </tr>\n",
       "    <tr>\n",
       "      <th>75%</th>\n",
       "      <td>156.341275</td>\n",
       "      <td>157.687075</td>\n",
       "      <td>154.762400</td>\n",
       "      <td>156.339075</td>\n",
       "      <td>5.116842e+07</td>\n",
       "      <td>4.670206e+07</td>\n",
       "      <td>1.039350</td>\n",
       "      <td>0.860500</td>\n",
       "      <td>156.471400</td>\n",
       "      <td>1.385887</td>\n",
       "    </tr>\n",
       "    <tr>\n",
       "      <th>max</th>\n",
       "      <td>229.977600</td>\n",
       "      <td>232.658200</td>\n",
       "      <td>228.981100</td>\n",
       "      <td>231.263100</td>\n",
       "      <td>1.899781e+08</td>\n",
       "      <td>1.898463e+08</td>\n",
       "      <td>11.132000</td>\n",
       "      <td>8.198000</td>\n",
       "      <td>231.426900</td>\n",
       "      <td>2.529301</td>\n",
       "    </tr>\n",
       "  </tbody>\n",
       "</table>\n",
       "</div>"
      ],
      "text/plain": [
       "              open         high          low        close        volume  \\\n",
       "count  1258.000000  1258.000000  1258.000000  1258.000000  1.258000e+03   \n",
       "mean    127.943792   129.049331   126.820980   127.964891  4.199825e+07   \n",
       "std      38.677967    39.036716    38.294054    38.663478  2.192838e+07   \n",
       "min      64.923300    65.755800    64.709600    65.526600  1.147592e+07   \n",
       "25%     100.031550   101.326975    99.192350    99.896675  2.645360e+07   \n",
       "50%     115.146650   116.407000   114.623050   115.426500  3.642551e+07   \n",
       "75%     156.341275   157.687075   154.762400   156.339075  5.116842e+07   \n",
       "max     229.977600   232.658200   228.981100   231.263100  1.899781e+08   \n",
       "\n",
       "       unadjustedVolume       change  changePercent         vwap  \\\n",
       "count      1.258000e+03  1258.000000    1258.000000  1258.000000   \n",
       "mean       3.759173e+07     0.070769       0.079814   127.982681   \n",
       "std        2.038429e+07     2.109995       1.527023    38.651609   \n",
       "min        5.704942e+06   -15.730000      -9.961000    57.582200   \n",
       "25%        2.412655e+07    -0.728529      -0.605750   100.245275   \n",
       "50%        3.357334e+07     0.069177       0.065000   115.472200   \n",
       "75%        4.670206e+07     1.039350       0.860500   156.471400   \n",
       "max        1.898463e+08    11.132000       8.198000   231.426900   \n",
       "\n",
       "       changeOverTime  \n",
       "count     1258.000000  \n",
       "mean         0.952869  \n",
       "std          0.590042  \n",
       "min          0.000000  \n",
       "25%          0.524521  \n",
       "50%          0.761521  \n",
       "75%          1.385887  \n",
       "max          2.529301  "
      ]
     },
     "execution_count": 9,
     "metadata": {},
     "output_type": "execute_result"
    }
   ],
   "source": [
    "data.describe()"
   ]
  },
  {
   "cell_type": "markdown",
   "metadata": {},
   "source": [
    "## _Notes_\n"
   ]
  },
  {
   "cell_type": "markdown",
   "metadata": {},
   "source": [
    "## Part 7 - Get Distributions\n",
    "To really understand what is going on in the data, we will need to see a distribution. One of the common ways of doing this is to use a histogram. "
   ]
  },
  {
   "cell_type": "code",
   "execution_count": 11,
   "metadata": {},
   "outputs": [
    {
     "name": "stdout",
     "output_type": "stream",
     "text": [
      "[[<matplotlib.axes._subplots.AxesSubplot object at 0x000002DCF6BAFF28>\n",
      "  <matplotlib.axes._subplots.AxesSubplot object at 0x000002DCF807AF98>\n",
      "  <matplotlib.axes._subplots.AxesSubplot object at 0x000002DCF80C92E8>]\n",
      " [<matplotlib.axes._subplots.AxesSubplot object at 0x000002DCF80F1860>\n",
      "  <matplotlib.axes._subplots.AxesSubplot object at 0x000002DCF8118DD8>\n",
      "  <matplotlib.axes._subplots.AxesSubplot object at 0x000002DCF8148390>]\n",
      " [<matplotlib.axes._subplots.AxesSubplot object at 0x000002DCF816F908>\n",
      "  <matplotlib.axes._subplots.AxesSubplot object at 0x000002DCF8196EB8>\n",
      "  <matplotlib.axes._subplots.AxesSubplot object at 0x000002DCF8196EF0>]\n",
      " [<matplotlib.axes._subplots.AxesSubplot object at 0x000002DCF81F29B0>\n",
      "  <matplotlib.axes._subplots.AxesSubplot object at 0x000002DCF821AF28>\n",
      "  <matplotlib.axes._subplots.AxesSubplot object at 0x000002DCF824A4E0>]]\n"
     ]
    },
    {
     "data": {
      "image/png": "[encoded data removed]",
      "text/plain": [
       "<Figure size 432x288 with 12 Axes>"
      ]
     },
     "metadata": {
      "needs_background": "light"
     },
     "output_type": "display_data"
    }
   ],
   "source": [
    "print(data.hist())"
   ]
  },
  {
   "cell_type": "markdown",
   "metadata": {},
   "source": [
    "## _Notes_\n",
    "  "
   ]
  },
  {
   "cell_type": "markdown",
   "metadata": {},
   "source": [
    "## Part 8 Visualize the data\n",
    "Lets make a copy of the data set and do some simple graphs."
   ]
  },
  {
   "cell_type": "code",
   "execution_count": 12,
   "metadata": {},
   "outputs": [
    {
     "name": "stdout",
     "output_type": "stream",
     "text": [
      "AxesSubplot(0.125,0.125;0.775x0.755)\n"
     ]
    },
    {
     "data": {
      "image/png": "[encoded data removed]",
      "text/plain": [
       "<Figure size 432x288 with 1 Axes>"
      ]
     },
     "metadata": {
      "needs_background": "light"
     },
     "output_type": "display_data"
    }
   ],
   "source": [
    "print(data.plot())"
   ]
  },
  {
   "cell_type": "markdown",
   "metadata": {},
   "source": [
    "## _Notes_  "
   ]
  },
  {
   "cell_type": "markdown",
   "metadata": {},
   "source": [
    "## Part 9 - Do Correlation\n",
    "\n",
    "Check the numerical parameters and see if any are strongly correlated.  This can give an idea of dimensions that are predictive of each other."
   ]
  },
  {
   "cell_type": "code",
   "execution_count": null,
   "metadata": {},
   "outputs": [],
   "source": []
  },
  {
   "cell_type": "markdown",
   "metadata": {},
   "source": [
    "## _Notes_\n"
   ]
  },
  {
   "cell_type": "markdown",
   "metadata": {},
   "source": [
    "## Part 10 - A better scatter plot\n",
    "Look to see if there are interesting relations to the non-numeric data.  Try some filtering."
   ]
  },
  {
   "cell_type": "code",
   "execution_count": null,
   "metadata": {
    "scrolled": true
   },
   "outputs": [],
   "source": []
  },
  {
   "cell_type": "markdown",
   "metadata": {},
   "source": [
    "## _Notes_"
   ]
  },
  {
   "cell_type": "markdown",
   "metadata": {},
   "source": [
    "# Bonus\n",
    "Do an acquisition and preliminary analysis on a second data set.  Compare the data sets."
   ]
  }
 ],
 "metadata": {
  "kernelspec": {
   "display_name": "Python 3",
   "language": "python",
   "name": "python3"
  },
  "language_info": {
   "codemirror_mode": {
    "name": "ipython",
    "version": 3
   },
   "file_extension": ".py",
   "mimetype": "text/x-python",
   "name": "python",
   "nbconvert_exporter": "python",
   "pygments_lexer": "ipython3",
   "version": "3.7.1"
  }
 },
 "nbformat": 4,
 "nbformat_minor": 2
}
