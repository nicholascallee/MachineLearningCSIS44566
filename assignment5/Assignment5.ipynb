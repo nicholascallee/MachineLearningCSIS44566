{
 "cells": [
  {
   "cell_type": "markdown",
   "metadata": {},
   "source": [
    "##### Assignment 5 - Linear Regression"
   ]
  },
  {
   "cell_type": "markdown",
   "metadata": {},
   "source": [
    "## Part 1 - Read your data frame.\n",
    "The CSV file is \"fifa_data.csv\""
   ]
  },
  {
   "cell_type": "code",
   "execution_count": 5,
   "metadata": {},
   "outputs": [],
   "source": [
    "import pandas as pd\n",
    "data = pd.read_csv(\"fifa_data.csv\")"
   ]
  },
  {
   "cell_type": "markdown",
   "metadata": {},
   "source": [
    "## Part 2 - Display info\n",
    "Take a look at the information.  Note any features that are missing values.  Note any features that are objects, but could be numerical"
   ]
  },
  {
   "cell_type": "code",
   "execution_count": 6,
   "metadata": {},
   "outputs": [
    {
     "name": "stdout",
     "output_type": "stream",
     "text": [
      "<class 'pandas.core.frame.DataFrame'>\n",
      "RangeIndex: 18207 entries, 0 to 18206\n",
      "Data columns (total 89 columns):\n",
      "Unnamed: 0                  18207 non-null int64\n",
      "ID                          18207 non-null int64\n",
      "Name                        18207 non-null object\n",
      "Age                         18207 non-null int64\n",
      "Photo                       18207 non-null object\n",
      "Nationality                 18207 non-null object\n",
      "Flag                        18207 non-null object\n",
      "Overall                     18207 non-null int64\n",
      "Potential                   18207 non-null int64\n",
      "Club                        17966 non-null object\n",
      "Club Logo                   18207 non-null object\n",
      "Value                       18207 non-null object\n",
      "Wage                        18207 non-null object\n",
      "Special                     18207 non-null int64\n",
      "Preferred Foot              18159 non-null object\n",
      "International Reputation    18159 non-null float64\n",
      "Weak Foot                   18159 non-null float64\n",
      "Skill Moves                 18159 non-null float64\n",
      "Work Rate                   18159 non-null object\n",
      "Body Type                   18159 non-null object\n",
      "Real Face                   18159 non-null object\n",
      "Position                    18147 non-null object\n",
      "Jersey Number               18147 non-null float64\n",
      "Joined                      16654 non-null object\n",
      "Loaned From                 1264 non-null object\n",
      "Contract Valid Until        17918 non-null object\n",
      "Height                      18159 non-null object\n",
      "Weight                      18159 non-null object\n",
      "LS                          16122 non-null object\n",
      "ST                          16122 non-null object\n",
      "RS                          16122 non-null object\n",
      "LW                          16122 non-null object\n",
      "LF                          16122 non-null object\n",
      "CF                          16122 non-null object\n",
      "RF                          16122 non-null object\n",
      "RW                          16122 non-null object\n",
      "LAM                         16122 non-null object\n",
      "CAM                         16122 non-null object\n",
      "RAM                         16122 non-null object\n",
      "LM                          16122 non-null object\n",
      "LCM                         16122 non-null object\n",
      "CM                          16122 non-null object\n",
      "RCM                         16122 non-null object\n",
      "RM                          16122 non-null object\n",
      "LWB                         16122 non-null object\n",
      "LDM                         16122 non-null object\n",
      "CDM                         16122 non-null object\n",
      "RDM                         16122 non-null object\n",
      "RWB                         16122 non-null object\n",
      "LB                          16122 non-null object\n",
      "LCB                         16122 non-null object\n",
      "CB                          16122 non-null object\n",
      "RCB                         16122 non-null object\n",
      "RB                          16122 non-null object\n",
      "Crossing                    18159 non-null float64\n",
      "Finishing                   18159 non-null float64\n",
      "HeadingAccuracy             18159 non-null float64\n",
      "ShortPassing                18159 non-null float64\n",
      "Volleys                     18159 non-null float64\n",
      "Dribbling                   18159 non-null float64\n",
      "Curve                       18159 non-null float64\n",
      "FKAccuracy                  18159 non-null float64\n",
      "LongPassing                 18159 non-null float64\n",
      "BallControl                 18159 non-null float64\n",
      "Acceleration                18159 non-null float64\n",
      "SprintSpeed                 18159 non-null float64\n",
      "Agility                     18159 non-null float64\n",
      "Reactions                   18159 non-null float64\n",
      "Balance                     18159 non-null float64\n",
      "ShotPower                   18159 non-null float64\n",
      "Jumping                     18159 non-null float64\n",
      "Stamina                     18159 non-null float64\n",
      "Strength                    18159 non-null float64\n",
      "LongShots                   18159 non-null float64\n",
      "Aggression                  18159 non-null float64\n",
      "Interceptions               18159 non-null float64\n",
      "Positioning                 18159 non-null float64\n",
      "Vision                      18159 non-null float64\n",
      "Penalties                   18159 non-null float64\n",
      "Composure                   18159 non-null float64\n",
      "Marking                     18159 non-null float64\n",
      "StandingTackle              18159 non-null float64\n",
      "SlidingTackle               18159 non-null float64\n",
      "GKDiving                    18159 non-null float64\n",
      "GKHandling                  18159 non-null float64\n",
      "GKKicking                   18159 non-null float64\n",
      "GKPositioning               18159 non-null float64\n",
      "GKReflexes                  18159 non-null float64\n",
      "Release Clause              16643 non-null object\n",
      "dtypes: float64(38), int64(6), object(45)\n",
      "memory usage: 12.4+ MB\n"
     ]
    }
   ],
   "source": [
    "data.info()"
   ]
  },
  {
   "cell_type": "markdown",
   "metadata": {},
   "source": [
    "### _Notes_\n",
    "alot of features with null values. The loaned from is the most empty. "
   ]
  },
  {
   "cell_type": "markdown",
   "metadata": {},
   "source": [
    "## Part 3a - Remove columns (features)\n",
    "Refer to data_cleaning in the DataFrames directory\n",
    "\n",
    "The \"Loaned From\" data feature is sparse and does not help us.\n",
    "\n",
    "Remove that column from your data frame."
   ]
  },
  {
   "cell_type": "code",
   "execution_count": 11,
   "metadata": {},
   "outputs": [],
   "source": [
    "data.drop(\"Loaned From\", axis = \"columns\", inplace = True)\n"
   ]
  },
  {
   "cell_type": "code",
   "execution_count": 12,
   "metadata": {},
   "outputs": [
    {
     "name": "stdout",
     "output_type": "stream",
     "text": [
      "<class 'pandas.core.frame.DataFrame'>\n",
      "RangeIndex: 18207 entries, 0 to 18206\n",
      "Data columns (total 88 columns):\n",
      "Unnamed: 0                  18207 non-null int64\n",
      "ID                          18207 non-null int64\n",
      "Name                        18207 non-null object\n",
      "Age                         18207 non-null int64\n",
      "Photo                       18207 non-null object\n",
      "Nationality                 18207 non-null object\n",
      "Flag                        18207 non-null object\n",
      "Overall                     18207 non-null int64\n",
      "Potential                   18207 non-null int64\n",
      "Club                        17966 non-null object\n",
      "Club Logo                   18207 non-null object\n",
      "Value                       18207 non-null object\n",
      "Wage                        18207 non-null object\n",
      "Special                     18207 non-null int64\n",
      "Preferred Foot              18159 non-null object\n",
      "International Reputation    18159 non-null float64\n",
      "Weak Foot                   18159 non-null float64\n",
      "Skill Moves                 18159 non-null float64\n",
      "Work Rate                   18159 non-null object\n",
      "Body Type                   18159 non-null object\n",
      "Real Face                   18159 non-null object\n",
      "Position                    18147 non-null object\n",
      "Jersey Number               18147 non-null float64\n",
      "Joined                      16654 non-null object\n",
      "Contract Valid Until        17918 non-null object\n",
      "Height                      18159 non-null object\n",
      "Weight                      18159 non-null object\n",
      "LS                          16122 non-null object\n",
      "ST                          16122 non-null object\n",
      "RS                          16122 non-null object\n",
      "LW                          16122 non-null object\n",
      "LF                          16122 non-null object\n",
      "CF                          16122 non-null object\n",
      "RF                          16122 non-null object\n",
      "RW                          16122 non-null object\n",
      "LAM                         16122 non-null object\n",
      "CAM                         16122 non-null object\n",
      "RAM                         16122 non-null object\n",
      "LM                          16122 non-null object\n",
      "LCM                         16122 non-null object\n",
      "CM                          16122 non-null object\n",
      "RCM                         16122 non-null object\n",
      "RM                          16122 non-null object\n",
      "LWB                         16122 non-null object\n",
      "LDM                         16122 non-null object\n",
      "CDM                         16122 non-null object\n",
      "RDM                         16122 non-null object\n",
      "RWB                         16122 non-null object\n",
      "LB                          16122 non-null object\n",
      "LCB                         16122 non-null object\n",
      "CB                          16122 non-null object\n",
      "RCB                         16122 non-null object\n",
      "RB                          16122 non-null object\n",
      "Crossing                    18159 non-null float64\n",
      "Finishing                   18159 non-null float64\n",
      "HeadingAccuracy             18159 non-null float64\n",
      "ShortPassing                18159 non-null float64\n",
      "Volleys                     18159 non-null float64\n",
      "Dribbling                   18159 non-null float64\n",
      "Curve                       18159 non-null float64\n",
      "FKAccuracy                  18159 non-null float64\n",
      "LongPassing                 18159 non-null float64\n",
      "BallControl                 18159 non-null float64\n",
      "Acceleration                18159 non-null float64\n",
      "SprintSpeed                 18159 non-null float64\n",
      "Agility                     18159 non-null float64\n",
      "Reactions                   18159 non-null float64\n",
      "Balance                     18159 non-null float64\n",
      "ShotPower                   18159 non-null float64\n",
      "Jumping                     18159 non-null float64\n",
      "Stamina                     18159 non-null float64\n",
      "Strength                    18159 non-null float64\n",
      "LongShots                   18159 non-null float64\n",
      "Aggression                  18159 non-null float64\n",
      "Interceptions               18159 non-null float64\n",
      "Positioning                 18159 non-null float64\n",
      "Vision                      18159 non-null float64\n",
      "Penalties                   18159 non-null float64\n",
      "Composure                   18159 non-null float64\n",
      "Marking                     18159 non-null float64\n",
      "StandingTackle              18159 non-null float64\n",
      "SlidingTackle               18159 non-null float64\n",
      "GKDiving                    18159 non-null float64\n",
      "GKHandling                  18159 non-null float64\n",
      "GKKicking                   18159 non-null float64\n",
      "GKPositioning               18159 non-null float64\n",
      "GKReflexes                  18159 non-null float64\n",
      "Release Clause              16643 non-null object\n",
      "dtypes: float64(38), int64(6), object(44)\n",
      "memory usage: 12.2+ MB\n"
     ]
    }
   ],
   "source": [
    "data.info()"
   ]
  },
  {
   "cell_type": "markdown",
   "metadata": {},
   "source": [
    "## Part 3b - Remove rows (data instances)\n",
    "Refer to data_cleaning in the DataFrames directory\n",
    "\n",
    "For now, go ahead and remove any instance that is missing any data value."
   ]
  },
  {
   "cell_type": "code",
   "execution_count": 13,
   "metadata": {},
   "outputs": [
    {
     "name": "stdout",
     "output_type": "stream",
     "text": [
      "<class 'pandas.core.frame.DataFrame'>\n",
      "RangeIndex: 18207 entries, 0 to 18206\n",
      "Data columns (total 88 columns):\n",
      "Unnamed: 0                  18207 non-null int64\n",
      "ID                          18207 non-null int64\n",
      "Name                        18207 non-null object\n",
      "Age                         18207 non-null int64\n",
      "Photo                       18207 non-null object\n",
      "Nationality                 18207 non-null object\n",
      "Flag                        18207 non-null object\n",
      "Overall                     18207 non-null int64\n",
      "Potential                   18207 non-null int64\n",
      "Club                        17966 non-null object\n",
      "Club Logo                   18207 non-null object\n",
      "Value                       18207 non-null object\n",
      "Wage                        18207 non-null object\n",
      "Special                     18207 non-null int64\n",
      "Preferred Foot              18159 non-null object\n",
      "International Reputation    18159 non-null float64\n",
      "Weak Foot                   18159 non-null float64\n",
      "Skill Moves                 18159 non-null float64\n",
      "Work Rate                   18159 non-null object\n",
      "Body Type                   18159 non-null object\n",
      "Real Face                   18159 non-null object\n",
      "Position                    18147 non-null object\n",
      "Jersey Number               18147 non-null float64\n",
      "Joined                      16654 non-null object\n",
      "Contract Valid Until        17918 non-null object\n",
      "Height                      18159 non-null object\n",
      "Weight                      18159 non-null object\n",
      "LS                          16122 non-null object\n",
      "ST                          16122 non-null object\n",
      "RS                          16122 non-null object\n",
      "LW                          16122 non-null object\n",
      "LF                          16122 non-null object\n",
      "CF                          16122 non-null object\n",
      "RF                          16122 non-null object\n",
      "RW                          16122 non-null object\n",
      "LAM                         16122 non-null object\n",
      "CAM                         16122 non-null object\n",
      "RAM                         16122 non-null object\n",
      "LM                          16122 non-null object\n",
      "LCM                         16122 non-null object\n",
      "CM                          16122 non-null object\n",
      "RCM                         16122 non-null object\n",
      "RM                          16122 non-null object\n",
      "LWB                         16122 non-null object\n",
      "LDM                         16122 non-null object\n",
      "CDM                         16122 non-null object\n",
      "RDM                         16122 non-null object\n",
      "RWB                         16122 non-null object\n",
      "LB                          16122 non-null object\n",
      "LCB                         16122 non-null object\n",
      "CB                          16122 non-null object\n",
      "RCB                         16122 non-null object\n",
      "RB                          16122 non-null object\n",
      "Crossing                    18159 non-null float64\n",
      "Finishing                   18159 non-null float64\n",
      "HeadingAccuracy             18159 non-null float64\n",
      "ShortPassing                18159 non-null float64\n",
      "Volleys                     18159 non-null float64\n",
      "Dribbling                   18159 non-null float64\n",
      "Curve                       18159 non-null float64\n",
      "FKAccuracy                  18159 non-null float64\n",
      "LongPassing                 18159 non-null float64\n",
      "BallControl                 18159 non-null float64\n",
      "Acceleration                18159 non-null float64\n",
      "SprintSpeed                 18159 non-null float64\n",
      "Agility                     18159 non-null float64\n",
      "Reactions                   18159 non-null float64\n",
      "Balance                     18159 non-null float64\n",
      "ShotPower                   18159 non-null float64\n",
      "Jumping                     18159 non-null float64\n",
      "Stamina                     18159 non-null float64\n",
      "Strength                    18159 non-null float64\n",
      "LongShots                   18159 non-null float64\n",
      "Aggression                  18159 non-null float64\n",
      "Interceptions               18159 non-null float64\n",
      "Positioning                 18159 non-null float64\n",
      "Vision                      18159 non-null float64\n",
      "Penalties                   18159 non-null float64\n",
      "Composure                   18159 non-null float64\n",
      "Marking                     18159 non-null float64\n",
      "StandingTackle              18159 non-null float64\n",
      "SlidingTackle               18159 non-null float64\n",
      "GKDiving                    18159 non-null float64\n",
      "GKHandling                  18159 non-null float64\n",
      "GKKicking                   18159 non-null float64\n",
      "GKPositioning               18159 non-null float64\n",
      "GKReflexes                  18159 non-null float64\n",
      "Release Clause              16643 non-null object\n",
      "dtypes: float64(38), int64(6), object(44)\n",
      "memory usage: 12.2+ MB\n",
      "None\n",
      "<class 'pandas.core.frame.DataFrame'>\n",
      "Int64Index: 14743 entries, 0 to 18206\n",
      "Data columns (total 88 columns):\n",
      "Unnamed: 0                  14743 non-null int64\n",
      "ID                          14743 non-null int64\n",
      "Name                        14743 non-null object\n",
      "Age                         14743 non-null int64\n",
      "Photo                       14743 non-null object\n",
      "Nationality                 14743 non-null object\n",
      "Flag                        14743 non-null object\n",
      "Overall                     14743 non-null int64\n",
      "Potential                   14743 non-null int64\n",
      "Club                        14743 non-null object\n",
      "Club Logo                   14743 non-null object\n",
      "Value                       14743 non-null object\n",
      "Wage                        14743 non-null object\n",
      "Special                     14743 non-null int64\n",
      "Preferred Foot              14743 non-null object\n",
      "International Reputation    14743 non-null float64\n",
      "Weak Foot                   14743 non-null float64\n",
      "Skill Moves                 14743 non-null float64\n",
      "Work Rate                   14743 non-null object\n",
      "Body Type                   14743 non-null object\n",
      "Real Face                   14743 non-null object\n",
      "Position                    14743 non-null object\n",
      "Jersey Number               14743 non-null float64\n",
      "Joined                      14743 non-null object\n",
      "Contract Valid Until        14743 non-null object\n",
      "Height                      14743 non-null object\n",
      "Weight                      14743 non-null object\n",
      "LS                          14743 non-null object\n",
      "ST                          14743 non-null object\n",
      "RS                          14743 non-null object\n",
      "LW                          14743 non-null object\n",
      "LF                          14743 non-null object\n",
      "CF                          14743 non-null object\n",
      "RF                          14743 non-null object\n",
      "RW                          14743 non-null object\n",
      "LAM                         14743 non-null object\n",
      "CAM                         14743 non-null object\n",
      "RAM                         14743 non-null object\n",
      "LM                          14743 non-null object\n",
      "LCM                         14743 non-null object\n",
      "CM                          14743 non-null object\n",
      "RCM                         14743 non-null object\n",
      "RM                          14743 non-null object\n",
      "LWB                         14743 non-null object\n",
      "LDM                         14743 non-null object\n",
      "CDM                         14743 non-null object\n",
      "RDM                         14743 non-null object\n",
      "RWB                         14743 non-null object\n",
      "LB                          14743 non-null object\n",
      "LCB                         14743 non-null object\n",
      "CB                          14743 non-null object\n",
      "RCB                         14743 non-null object\n",
      "RB                          14743 non-null object\n",
      "Crossing                    14743 non-null float64\n",
      "Finishing                   14743 non-null float64\n",
      "HeadingAccuracy             14743 non-null float64\n",
      "ShortPassing                14743 non-null float64\n",
      "Volleys                     14743 non-null float64\n",
      "Dribbling                   14743 non-null float64\n",
      "Curve                       14743 non-null float64\n",
      "FKAccuracy                  14743 non-null float64\n",
      "LongPassing                 14743 non-null float64\n",
      "BallControl                 14743 non-null float64\n",
      "Acceleration                14743 non-null float64\n",
      "SprintSpeed                 14743 non-null float64\n",
      "Agility                     14743 non-null float64\n",
      "Reactions                   14743 non-null float64\n",
      "Balance                     14743 non-null float64\n",
      "ShotPower                   14743 non-null float64\n",
      "Jumping                     14743 non-null float64\n",
      "Stamina                     14743 non-null float64\n",
      "Strength                    14743 non-null float64\n",
      "LongShots                   14743 non-null float64\n",
      "Aggression                  14743 non-null float64\n",
      "Interceptions               14743 non-null float64\n",
      "Positioning                 14743 non-null float64\n",
      "Vision                      14743 non-null float64\n",
      "Penalties                   14743 non-null float64\n",
      "Composure                   14743 non-null float64\n",
      "Marking                     14743 non-null float64\n",
      "StandingTackle              14743 non-null float64\n",
      "SlidingTackle               14743 non-null float64\n",
      "GKDiving                    14743 non-null float64\n",
      "GKHandling                  14743 non-null float64\n",
      "GKKicking                   14743 non-null float64\n",
      "GKPositioning               14743 non-null float64\n",
      "GKReflexes                  14743 non-null float64\n",
      "Release Clause              14743 non-null object\n",
      "dtypes: float64(38), int64(6), object(44)\n",
      "memory usage: 10.0+ MB\n"
     ]
    }
   ],
   "source": [
    "print(data.info())\n",
    "data.dropna(axis='index', how='any', inplace=True)\n",
    "data.info()"
   ]
  },
  {
   "cell_type": "markdown",
   "metadata": {},
   "source": [
    "## Part 3c - We want to predict the wages for a player\n",
    "But the wages in the data frame are not a numerical type.  I have created a handy function that will take the amount and return a numerical value.  Create a new column by mapping the euro_converter function on the \"Wage\" column."
   ]
  },
  {
   "cell_type": "code",
   "execution_count": null,
   "metadata": {},
   "outputs": [],
   "source": []
  },
  {
   "cell_type": "code",
   "execution_count": 15,
   "metadata": {},
   "outputs": [],
   "source": [
    "def euro_converter(string):\n",
    "    unit = string[0:1]\n",
    "    value = string[1:len(string)-1]\n",
    "    multiplier = string[-1]\n",
    "    if multiplier ==\"0\": return 0\n",
    "    \n",
    "    # print(unit, value, multiplier)\n",
    "    value = float(value)\n",
    "    if multiplier==\"M\": value *= 1000000\n",
    "    if multiplier==\"K\": value *= 1000\n",
    "    return value"
   ]
  },
  {
   "cell_type": "code",
   "execution_count": 16,
   "metadata": {},
   "outputs": [],
   "source": [
    "data[\"Numeric Wage\"] = data[\"Wage\"].map(euro_converter)\n"
   ]
  },
  {
   "cell_type": "markdown",
   "metadata": {},
   "source": [
    "## Part 4 - Split the data frame\n",
    "\n",
    "Use the train_test_split() function to split the data set into training(75%) and test(25%) sets. "
   ]
  },
  {
   "cell_type": "code",
   "execution_count": 17,
   "metadata": {},
   "outputs": [],
   "source": [
    "from sklearn.model_selection import train_test_split\n",
    "trainSet,testSet = train_test_split(data, test_size=.25 ,random_state = 123)"
   ]
  },
  {
   "cell_type": "markdown",
   "metadata": {},
   "source": [
    "## Part 5 - Do some scatter plots\n",
    "Take a look at \"Potential\", \"Overall\", and the new wages feature you created using the scatter_matrix"
   ]
  },
  {
   "cell_type": "code",
   "execution_count": 18,
   "metadata": {},
   "outputs": [
    {
     "data": {
      "text/plain": [
       "<Figure size 640x480 with 36 Axes>"
      ]
     },
     "metadata": {},
     "output_type": "display_data"
    }
   ],
   "source": [
    "from pandas.plotting import scatter_matrix\n",
    "import matplotlib.pyplot as plt\n",
    "import numpy as np\n",
    "importantFeatures = [\"Overall\", \"Potential\", \"HeadingAccuracy\", \"Age\", \"Skill Moves\", \"Numeric Wage\"]\n",
    "scatter_matrix(data[importantFeatures])\n",
    "plt.show()"
   ]
  },
  {
   "cell_type": "markdown",
   "metadata": {},
   "source": [
    "## Part 6 - Linear Regression\n",
    "1. Pull out \"Overall\" for the X and the wage feature you created for y. \n",
    "2. Fit the data.\n",
    "3. Show R2 and Mean Square Error\n",
    "4. Discuss the results"
   ]
  },
  {
   "cell_type": "code",
   "execution_count": 19,
   "metadata": {},
   "outputs": [
    {
     "name": "stdout",
     "output_type": "stream",
     "text": [
      "the R2 score is : 0.33390974642384985\n",
      "mean squared error is : 347281860.93818104\n"
     ]
    }
   ],
   "source": [
    "from sklearn.linear_model import LinearRegression\n",
    "reg = LinearRegression()\n",
    "x = data[[\"Overall\"]]\n",
    "y = data[\"Numeric Wage\"]\n",
    "\n",
    "reg.fit(x,y)\n",
    "\n",
    "bias = reg.intercept_\n",
    "featureCoef = reg.coef_\n",
    "print(\"the R2 score is : \" + str(reg.score(x,y))) #this is the R2\n",
    "\n",
    "\n",
    "from sklearn.metrics import mean_squared_error\n",
    "\n",
    "yPrediction = reg.predict(x)\n",
    "meanSquareError = mean_squared_error(y,yPrediction) #this is mse\n",
    "print(\"mean squared error is : \"+ str(meanSquareError))"
   ]
  },
  {
   "cell_type": "markdown",
   "metadata": {},
   "source": [
    "Discussion: "
   ]
  },
  {
   "cell_type": "code",
   "execution_count": 20,
   "metadata": {},
   "outputs": [
    {
     "name": "stdout",
     "output_type": "stream",
     "text": [
      "0        €110.5M\n",
      "1           €77M\n",
      "2        €118.5M\n",
      "4          €102M\n",
      "5           €93M\n",
      "6           €67M\n",
      "7           €80M\n",
      "8           €51M\n",
      "10          €77M\n",
      "11        €76.5M\n",
      "12          €44M\n",
      "13          €60M\n",
      "14          €63M\n",
      "15          €89M\n",
      "16        €83.5M\n",
      "17          €78M\n",
      "20        €51.5M\n",
      "21          €60M\n",
      "23        €64.5M\n",
      "24          €27M\n",
      "25          €81M\n",
      "26        €69.5M\n",
      "27        €59.5M\n",
      "29          €62M\n",
      "30        €73.5M\n",
      "31        €73.5M\n",
      "32        €69.5M\n",
      "33          €59M\n",
      "34          €46M\n",
      "35          €43M\n",
      "          ...   \n",
      "18171       €20K\n",
      "18173       €60K\n",
      "18174       €60K\n",
      "18175       €40K\n",
      "18176       €40K\n",
      "18177       €70K\n",
      "18179       €50K\n",
      "18181       €50K\n",
      "18182       €50K\n",
      "18184       €40K\n",
      "18185       €50K\n",
      "18186       €60K\n",
      "18187       €40K\n",
      "18188       €60K\n",
      "18189       €60K\n",
      "18190       €60K\n",
      "18191       €50K\n",
      "18192       €50K\n",
      "18193       €50K\n",
      "18195       €60K\n",
      "18196       €60K\n",
      "18197       €60K\n",
      "18199       €70K\n",
      "18200       €60K\n",
      "18201       €60K\n",
      "18202       €60K\n",
      "18203       €60K\n",
      "18204       €60K\n",
      "18205       €60K\n",
      "18206       €60K\n",
      "Name: Value, Length: 14743, dtype: object\n"
     ]
    }
   ],
   "source": [
    "print(data[\"Value\"])"
   ]
  },
  {
   "cell_type": "code",
   "execution_count": null,
   "metadata": {},
   "outputs": [],
   "source": []
  },
  {
   "cell_type": "markdown",
   "metadata": {},
   "source": [
    "## Part 7 - Add features to the Model\n",
    "1. Pick up to 3 other features that you think might improve the model and use them for X.\n",
    "2. Fit the data\n",
    "3. Show the scores\n",
    "4. Discuss the results"
   ]
  },
  {
   "cell_type": "code",
   "execution_count": 21,
   "metadata": {},
   "outputs": [
    {
     "name": "stdout",
     "output_type": "stream",
     "text": [
      "the R2 score is : 0.8584657113001329\n",
      "mean squared error is : 6.7183983556248394\n"
     ]
    }
   ],
   "source": [
    "reg = LinearRegression()\n",
    "y = data[\"Overall\"]\n",
    "x = data[[\"Potential\",\"Age\",\"Numeric Wage\"]]\n",
    "\n",
    "reg.fit(x,y)\n",
    "\n",
    "bias = reg.intercept_\n",
    "featureCoef = reg.coef_\n",
    "print(\"the R2 score is : \" + str(reg.score(x,y))) #this is the R2\n",
    "\n",
    "yPrediction = reg.predict(x)\n",
    "meanSquareError = mean_squared_error(y,yPrediction) #this is mse\n",
    "print(\"mean squared error is : \"+ str(meanSquareError))"
   ]
  },
  {
   "cell_type": "code",
   "execution_count": 22,
   "metadata": {},
   "outputs": [
    {
     "name": "stdout",
     "output_type": "stream",
     "text": [
      "the R2 score is : 0.022910902689063928\n",
      "mean squared error is : 509428441.8586772\n"
     ]
    }
   ],
   "source": [
    "reg = LinearRegression()\n",
    "y = data[\"Numeric Wage\"]\n",
    "x = data[[\"Age\"]]\n",
    "\n",
    "reg.fit(x,y)\n",
    "\n",
    "bias = reg.intercept_\n",
    "featureCoef = reg.coef_\n",
    "print(\"the R2 score is : \" + str(reg.score(x,y))) #this is the R2\n",
    "\n",
    "yPrediction = reg.predict(x)\n",
    "meanSquareError = mean_squared_error(y,yPrediction) #this is mse\n",
    "print(\"mean squared error is : \"+ str(meanSquareError))"
   ]
  },
  {
   "cell_type": "code",
   "execution_count": 23,
   "metadata": {},
   "outputs": [
    {
     "name": "stdout",
     "output_type": "stream",
     "text": [
      "the R2 score is : 0.20645576664638\n",
      "mean squared error is : 413732998.8184575\n"
     ]
    }
   ],
   "source": [
    "reg = LinearRegression()\n",
    "y = data[\"Numeric Wage\"]\n",
    "x = data[[\"Special\"]]\n",
    "\n",
    "reg.fit(x,y)\n",
    "\n",
    "bias = reg.intercept_\n",
    "featureCoef = reg.coef_\n",
    "print(\"the R2 score is : \" + str(reg.score(x,y))) #this is the R2\n",
    "\n",
    "yPrediction = reg.predict(x)\n",
    "meanSquareError = mean_squared_error(y,yPrediction) #this is mse\n",
    "print(\"mean squared error is : \"+ str(meanSquareError))"
   ]
  },
  {
   "cell_type": "code",
   "execution_count": 28,
   "metadata": {},
   "outputs": [
    {
     "name": "stdout",
     "output_type": "stream",
     "text": [
      "the R2 score is : 0.31736964045463656\n",
      "mean squared error is : 330353635.868827\n"
     ]
    }
   ],
   "source": [
    "reg = LinearRegression()\n",
    "y = data[\"Numeric Wage\"]\n",
    "x = data[[\"Special\",\"Age\",\"Potential\"]]\n",
    "\n",
    "reg.fit(x,y)\n",
    "\n",
    "bias = reg.intercept_\n",
    "featureCoef = reg.coef_\n",
    "print(\"the R2 score is : \" + str(reg.score(x,y))) #this is the R2\n",
    "\n",
    "yPrediction = reg.predict(x)\n",
    "meanSquareError = mean_squared_error(y,yPrediction) #this is mse\n",
    "print(\"mean squared error is : \"+ str(meanSquareError))"
   ]
  },
  {
   "cell_type": "markdown",
   "metadata": {},
   "source": [
    "Discussion: \n",
    "looks like the winner is when x and y are\n",
    "\n",
    "y = data[\"Overall\"]\n",
    "\n",
    "x = data[[\"Potential\",\"Age\",\"Numeric Wage\"]]\n",
    "\n",
    "This was the winner because it has a .85 r2 score. The highest i have seen and the mean squared error is 6.895 which is the lowest i have seen it.  hopefully it works well for the test set.\n"
   ]
  },
  {
   "cell_type": "markdown",
   "metadata": {},
   "source": [
    "## Part 8 - Test Set time\n",
    "Evaluate the model for r2 and mean square error on the test set and discuss your results in comparison to part 7."
   ]
  },
  {
   "cell_type": "code",
   "execution_count": 24,
   "metadata": {},
   "outputs": [
    {
     "name": "stdout",
     "output_type": "stream",
     "text": [
      "the R2 score is : 0.8587134409889005\n",
      "mean squared error is : 6.528907077555207\n"
     ]
    }
   ],
   "source": [
    "reg = LinearRegression()\n",
    "y = testSet[\"Overall\"]\n",
    "x = testSet[[\"Potential\",\"Age\",\"Numeric Wage\"]]\n",
    "reg.fit(x,y)\n",
    "\n",
    "bias = reg.intercept_\n",
    "featureCoef = reg.coef_\n",
    "print(\"the R2 score is : \" + str(reg.score(x,y))) #this is the R2\n",
    "\n",
    "yPrediction = reg.predict(x)\n",
    "meanSquareError = mean_squared_error(y,yPrediction) #this is mse\n",
    "print(\"mean squared error is : \"+ str(meanSquareError))"
   ]
  },
  {
   "cell_type": "markdown",
   "metadata": {},
   "source": [
    "Discussion: hooray i am getting the same results. This is promising because it shows me that i can confidently predict overall based on potential, age, and numeric wage. "
   ]
  },
  {
   "cell_type": "markdown",
   "metadata": {},
   "source": [
    "# Bonus options\n",
    "For each of the options, redo your regression using the new features, report the results and discuss.\n"
   ]
  },
  {
   "cell_type": "markdown",
   "metadata": {},
   "source": [
    "1. Look for a better set of features to predict wages.\n",
    "2. Do a better job of filtering the data.  It looks like there are 18159 instances that have numerical performance values.  Filter unneeded columns so that those 18159 instances remain. \n",
    "2. Look at the other columns that contain objects and see if any could be useful in your regression.  Write a map function and apply.  \n",
    "2. Add in polynomial features."
   ]
  },
  {
   "cell_type": "code",
   "execution_count": 25,
   "metadata": {},
   "outputs": [
    {
     "name": "stdout",
     "output_type": "stream",
     "text": [
      "the R2 score is : 0.36057478207820515\n",
      "mean squared error is : 315592088.69211996\n"
     ]
    }
   ],
   "source": [
    "reg = LinearRegression()\n",
    "y = testSet[\"Numeric Wage\"]\n",
    "x = testSet[[\"Potential\",\"Age\",\"Strength\"]]\n",
    "reg.fit(x,y)\n",
    "\n",
    "bias = reg.intercept_\n",
    "featureCoef = reg.coef_\n",
    "print(\"the R2 score is : \" + str(reg.score(x,y))) #this is the R2\n",
    "\n",
    "yPrediction = reg.predict(x)\n",
    "meanSquareError = mean_squared_error(y,yPrediction) #this is mse\n",
    "print(\"mean squared error is : \"+ str(meanSquareError))"
   ]
  },
  {
   "cell_type": "code",
   "execution_count": 26,
   "metadata": {},
   "outputs": [
    {
     "name": "stdout",
     "output_type": "stream",
     "text": [
      "<class 'pandas.core.frame.DataFrame'>\n",
      "Int64Index: 14743 entries, 0 to 18206\n",
      "Data columns (total 89 columns):\n",
      "Unnamed: 0                  14743 non-null int64\n",
      "ID                          14743 non-null int64\n",
      "Name                        14743 non-null object\n",
      "Age                         14743 non-null int64\n",
      "Photo                       14743 non-null object\n",
      "Nationality                 14743 non-null object\n",
      "Flag                        14743 non-null object\n",
      "Overall                     14743 non-null int64\n",
      "Potential                   14743 non-null int64\n",
      "Club                        14743 non-null object\n",
      "Club Logo                   14743 non-null object\n",
      "Value                       14743 non-null object\n",
      "Wage                        14743 non-null object\n",
      "Special                     14743 non-null int64\n",
      "Preferred Foot              14743 non-null object\n",
      "International Reputation    14743 non-null float64\n",
      "Weak Foot                   14743 non-null float64\n",
      "Skill Moves                 14743 non-null float64\n",
      "Work Rate                   14743 non-null object\n",
      "Body Type                   14743 non-null object\n",
      "Real Face                   14743 non-null object\n",
      "Position                    14743 non-null object\n",
      "Jersey Number               14743 non-null float64\n",
      "Joined                      14743 non-null object\n",
      "Contract Valid Until        14743 non-null object\n",
      "Height                      14743 non-null object\n",
      "Weight                      14743 non-null object\n",
      "LS                          14743 non-null object\n",
      "ST                          14743 non-null object\n",
      "RS                          14743 non-null object\n",
      "LW                          14743 non-null object\n",
      "LF                          14743 non-null object\n",
      "CF                          14743 non-null object\n",
      "RF                          14743 non-null object\n",
      "RW                          14743 non-null object\n",
      "LAM                         14743 non-null object\n",
      "CAM                         14743 non-null object\n",
      "RAM                         14743 non-null object\n",
      "LM                          14743 non-null object\n",
      "LCM                         14743 non-null object\n",
      "CM                          14743 non-null object\n",
      "RCM                         14743 non-null object\n",
      "RM                          14743 non-null object\n",
      "LWB                         14743 non-null object\n",
      "LDM                         14743 non-null object\n",
      "CDM                         14743 non-null object\n",
      "RDM                         14743 non-null object\n",
      "RWB                         14743 non-null object\n",
      "LB                          14743 non-null object\n",
      "LCB                         14743 non-null object\n",
      "CB                          14743 non-null object\n",
      "RCB                         14743 non-null object\n",
      "RB                          14743 non-null object\n",
      "Crossing                    14743 non-null float64\n",
      "Finishing                   14743 non-null float64\n",
      "HeadingAccuracy             14743 non-null float64\n",
      "ShortPassing                14743 non-null float64\n",
      "Volleys                     14743 non-null float64\n",
      "Dribbling                   14743 non-null float64\n",
      "Curve                       14743 non-null float64\n",
      "FKAccuracy                  14743 non-null float64\n",
      "LongPassing                 14743 non-null float64\n",
      "BallControl                 14743 non-null float64\n",
      "Acceleration                14743 non-null float64\n",
      "SprintSpeed                 14743 non-null float64\n",
      "Agility                     14743 non-null float64\n",
      "Reactions                   14743 non-null float64\n",
      "Balance                     14743 non-null float64\n",
      "ShotPower                   14743 non-null float64\n",
      "Jumping                     14743 non-null float64\n",
      "Stamina                     14743 non-null float64\n",
      "Strength                    14743 non-null float64\n",
      "LongShots                   14743 non-null float64\n",
      "Aggression                  14743 non-null float64\n",
      "Interceptions               14743 non-null float64\n",
      "Positioning                 14743 non-null float64\n",
      "Vision                      14743 non-null float64\n",
      "Penalties                   14743 non-null float64\n",
      "Composure                   14743 non-null float64\n",
      "Marking                     14743 non-null float64\n",
      "StandingTackle              14743 non-null float64\n",
      "SlidingTackle               14743 non-null float64\n",
      "GKDiving                    14743 non-null float64\n",
      "GKHandling                  14743 non-null float64\n",
      "GKKicking                   14743 non-null float64\n",
      "GKPositioning               14743 non-null float64\n",
      "GKReflexes                  14743 non-null float64\n",
      "Release Clause              14743 non-null object\n",
      "Numeric Wage                14743 non-null float64\n",
      "dtypes: float64(39), int64(6), object(44)\n",
      "memory usage: 10.1+ MB\n"
     ]
    }
   ],
   "source": [
    "data.drop(labels= [\"Release Clause\", \"Contract Valid Until\", \"Club\", \"Club Logo\",\"Joined\"], axis = \"columns\")\n",
    "data.info()"
   ]
  },
  {
   "cell_type": "code",
   "execution_count": 32,
   "metadata": {},
   "outputs": [],
   "source": [
    "def intHeightInches(string):\n",
    "    twelves = int(string[0])\n",
    "    heightInches = twelves*12\n",
    "    heightInches = heightInches+int(string[2::])\n",
    "    return heightInches\n",
    "data[\"HeightInches\"] = data[\"Height\"].map(intHeightInches)"
   ]
  },
  {
   "cell_type": "markdown",
   "metadata": {},
   "source": [
    "Converted height in feet to height in inches."
   ]
  },
  {
   "cell_type": "code",
   "execution_count": 36,
   "metadata": {},
   "outputs": [
    {
     "name": "stdout",
     "output_type": "stream",
     "text": [
      "6'0     2375\n",
      "5'10    2254\n",
      "5'9     2058\n",
      "5'11    1898\n",
      "6'1     1462\n",
      "6'2     1382\n",
      "5'8      853\n",
      "5'7      825\n",
      "6'3      583\n",
      "6'4      417\n",
      "5'6      279\n",
      "5'5      134\n",
      "6'5      119\n",
      "6'6       36\n",
      "5'4       29\n",
      "5'3       16\n",
      "6'7       12\n",
      "5'2        5\n",
      "5'1        3\n",
      "6'8        3\n",
      "Name: Height, dtype: int64\n"
     ]
    },
    {
     "data": {
      "text/plain": [
       "72    2375\n",
       "70    2254\n",
       "69    2058\n",
       "71    1898\n",
       "73    1462\n",
       "74    1382\n",
       "68     853\n",
       "67     825\n",
       "75     583\n",
       "76     417\n",
       "66     279\n",
       "65     134\n",
       "77     119\n",
       "78      36\n",
       "64      29\n",
       "63      16\n",
       "79      12\n",
       "62       5\n",
       "61       3\n",
       "80       3\n",
       "Name: HeightInches, dtype: int64"
      ]
     },
     "execution_count": 36,
     "metadata": {},
     "output_type": "execute_result"
    }
   ],
   "source": [
    "print(data[\"Height\"].value_counts())\n",
    "data[\"HeightInches\"].value_counts()"
   ]
  },
  {
   "cell_type": "code",
   "execution_count": null,
   "metadata": {},
   "outputs": [],
   "source": []
  }
 ],
 "metadata": {
  "kernelspec": {
   "display_name": "Python 3",
   "language": "python",
   "name": "python3"
  },
  "language_info": {
   "codemirror_mode": {
    "name": "ipython",
    "version": 3
   },
   "file_extension": ".py",
   "mimetype": "text/x-python",
   "name": "python",
   "nbconvert_exporter": "python",
   "pygments_lexer": "ipython3",
   "version": "3.7.1"
  }
 },
 "nbformat": 4,
 "nbformat_minor": 2
}
