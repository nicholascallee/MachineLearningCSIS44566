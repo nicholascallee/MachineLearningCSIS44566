{
 "cells": [
  {
   "cell_type": "markdown",
   "metadata": {},
   "source": [
    "# Linear Regression\n",
    "We are going to use the Howell data again.  This time we are going to use the height to predict the weight.  Initially, we will just make a prediction for adults and then we will expand the analysis to include the entire data set."
   ]
  },
  {
   "cell_type": "markdown",
   "metadata": {},
   "source": [
    "## Set up.\n",
    "Filter the children and split the set into training and test data."
   ]
  },
  {
   "cell_type": "code",
   "execution_count": 1,
   "metadata": {},
   "outputs": [
    {
     "ename": "FileNotFoundError",
     "evalue": "File b'h.csv' does not exist",
     "output_type": "error",
     "traceback": [
      "\u001b[1;31m---------------------------------------------------------------------------\u001b[0m",
      "\u001b[1;31mFileNotFoundError\u001b[0m                         Traceback (most recent call last)",
      "\u001b[1;32m<ipython-input-1-dc12ccffea01>\u001b[0m in \u001b[0;36m<module>\u001b[1;34m\u001b[0m\n\u001b[0;32m      1\u001b[0m \u001b[1;32mimport\u001b[0m \u001b[0mpandas\u001b[0m \u001b[1;32mas\u001b[0m \u001b[0mpd\u001b[0m\u001b[1;33m\u001b[0m\u001b[1;33m\u001b[0m\u001b[0m\n\u001b[0;32m      2\u001b[0m \u001b[1;33m\u001b[0m\u001b[0m\n\u001b[1;32m----> 3\u001b[1;33m \u001b[0mdata_frame\u001b[0m \u001b[1;33m=\u001b[0m \u001b[0mpd\u001b[0m\u001b[1;33m.\u001b[0m\u001b[0mread_csv\u001b[0m\u001b[1;33m(\u001b[0m\u001b[1;34m\"h.csv\"\u001b[0m\u001b[1;33m,\u001b[0m \u001b[0msep\u001b[0m\u001b[1;33m=\u001b[0m\u001b[1;34m\";\"\u001b[0m\u001b[1;33m)\u001b[0m\u001b[1;33m\u001b[0m\u001b[1;33m\u001b[0m\u001b[0m\n\u001b[0m\u001b[0;32m      4\u001b[0m \u001b[1;31m#print(data_frame)\u001b[0m\u001b[1;33m\u001b[0m\u001b[1;33m\u001b[0m\u001b[1;33m\u001b[0m\u001b[0m\n\u001b[0;32m      5\u001b[0m \u001b[1;33m\u001b[0m\u001b[0m\n",
      "\u001b[1;32mC:\\ProgramData\\Anaconda3\\lib\\site-packages\\pandas\\io\\parsers.py\u001b[0m in \u001b[0;36mparser_f\u001b[1;34m(filepath_or_buffer, sep, delimiter, header, names, index_col, usecols, squeeze, prefix, mangle_dupe_cols, dtype, engine, converters, true_values, false_values, skipinitialspace, skiprows, nrows, na_values, keep_default_na, na_filter, verbose, skip_blank_lines, parse_dates, infer_datetime_format, keep_date_col, date_parser, dayfirst, iterator, chunksize, compression, thousands, decimal, lineterminator, quotechar, quoting, escapechar, comment, encoding, dialect, tupleize_cols, error_bad_lines, warn_bad_lines, skipfooter, doublequote, delim_whitespace, low_memory, memory_map, float_precision)\u001b[0m\n\u001b[0;32m    676\u001b[0m                     skip_blank_lines=skip_blank_lines)\n\u001b[0;32m    677\u001b[0m \u001b[1;33m\u001b[0m\u001b[0m\n\u001b[1;32m--> 678\u001b[1;33m         \u001b[1;32mreturn\u001b[0m \u001b[0m_read\u001b[0m\u001b[1;33m(\u001b[0m\u001b[0mfilepath_or_buffer\u001b[0m\u001b[1;33m,\u001b[0m \u001b[0mkwds\u001b[0m\u001b[1;33m)\u001b[0m\u001b[1;33m\u001b[0m\u001b[1;33m\u001b[0m\u001b[0m\n\u001b[0m\u001b[0;32m    679\u001b[0m \u001b[1;33m\u001b[0m\u001b[0m\n\u001b[0;32m    680\u001b[0m     \u001b[0mparser_f\u001b[0m\u001b[1;33m.\u001b[0m\u001b[0m__name__\u001b[0m \u001b[1;33m=\u001b[0m \u001b[0mname\u001b[0m\u001b[1;33m\u001b[0m\u001b[1;33m\u001b[0m\u001b[0m\n",
      "\u001b[1;32mC:\\ProgramData\\Anaconda3\\lib\\site-packages\\pandas\\io\\parsers.py\u001b[0m in \u001b[0;36m_read\u001b[1;34m(filepath_or_buffer, kwds)\u001b[0m\n\u001b[0;32m    438\u001b[0m \u001b[1;33m\u001b[0m\u001b[0m\n\u001b[0;32m    439\u001b[0m     \u001b[1;31m# Create the parser.\u001b[0m\u001b[1;33m\u001b[0m\u001b[1;33m\u001b[0m\u001b[1;33m\u001b[0m\u001b[0m\n\u001b[1;32m--> 440\u001b[1;33m     \u001b[0mparser\u001b[0m \u001b[1;33m=\u001b[0m \u001b[0mTextFileReader\u001b[0m\u001b[1;33m(\u001b[0m\u001b[0mfilepath_or_buffer\u001b[0m\u001b[1;33m,\u001b[0m \u001b[1;33m**\u001b[0m\u001b[0mkwds\u001b[0m\u001b[1;33m)\u001b[0m\u001b[1;33m\u001b[0m\u001b[1;33m\u001b[0m\u001b[0m\n\u001b[0m\u001b[0;32m    441\u001b[0m \u001b[1;33m\u001b[0m\u001b[0m\n\u001b[0;32m    442\u001b[0m     \u001b[1;32mif\u001b[0m \u001b[0mchunksize\u001b[0m \u001b[1;32mor\u001b[0m \u001b[0miterator\u001b[0m\u001b[1;33m:\u001b[0m\u001b[1;33m\u001b[0m\u001b[1;33m\u001b[0m\u001b[0m\n",
      "\u001b[1;32mC:\\ProgramData\\Anaconda3\\lib\\site-packages\\pandas\\io\\parsers.py\u001b[0m in \u001b[0;36m__init__\u001b[1;34m(self, f, engine, **kwds)\u001b[0m\n\u001b[0;32m    785\u001b[0m             \u001b[0mself\u001b[0m\u001b[1;33m.\u001b[0m\u001b[0moptions\u001b[0m\u001b[1;33m[\u001b[0m\u001b[1;34m'has_index_names'\u001b[0m\u001b[1;33m]\u001b[0m \u001b[1;33m=\u001b[0m \u001b[0mkwds\u001b[0m\u001b[1;33m[\u001b[0m\u001b[1;34m'has_index_names'\u001b[0m\u001b[1;33m]\u001b[0m\u001b[1;33m\u001b[0m\u001b[1;33m\u001b[0m\u001b[0m\n\u001b[0;32m    786\u001b[0m \u001b[1;33m\u001b[0m\u001b[0m\n\u001b[1;32m--> 787\u001b[1;33m         \u001b[0mself\u001b[0m\u001b[1;33m.\u001b[0m\u001b[0m_make_engine\u001b[0m\u001b[1;33m(\u001b[0m\u001b[0mself\u001b[0m\u001b[1;33m.\u001b[0m\u001b[0mengine\u001b[0m\u001b[1;33m)\u001b[0m\u001b[1;33m\u001b[0m\u001b[1;33m\u001b[0m\u001b[0m\n\u001b[0m\u001b[0;32m    788\u001b[0m \u001b[1;33m\u001b[0m\u001b[0m\n\u001b[0;32m    789\u001b[0m     \u001b[1;32mdef\u001b[0m \u001b[0mclose\u001b[0m\u001b[1;33m(\u001b[0m\u001b[0mself\u001b[0m\u001b[1;33m)\u001b[0m\u001b[1;33m:\u001b[0m\u001b[1;33m\u001b[0m\u001b[1;33m\u001b[0m\u001b[0m\n",
      "\u001b[1;32mC:\\ProgramData\\Anaconda3\\lib\\site-packages\\pandas\\io\\parsers.py\u001b[0m in \u001b[0;36m_make_engine\u001b[1;34m(self, engine)\u001b[0m\n\u001b[0;32m   1012\u001b[0m     \u001b[1;32mdef\u001b[0m \u001b[0m_make_engine\u001b[0m\u001b[1;33m(\u001b[0m\u001b[0mself\u001b[0m\u001b[1;33m,\u001b[0m \u001b[0mengine\u001b[0m\u001b[1;33m=\u001b[0m\u001b[1;34m'c'\u001b[0m\u001b[1;33m)\u001b[0m\u001b[1;33m:\u001b[0m\u001b[1;33m\u001b[0m\u001b[1;33m\u001b[0m\u001b[0m\n\u001b[0;32m   1013\u001b[0m         \u001b[1;32mif\u001b[0m \u001b[0mengine\u001b[0m \u001b[1;33m==\u001b[0m \u001b[1;34m'c'\u001b[0m\u001b[1;33m:\u001b[0m\u001b[1;33m\u001b[0m\u001b[1;33m\u001b[0m\u001b[0m\n\u001b[1;32m-> 1014\u001b[1;33m             \u001b[0mself\u001b[0m\u001b[1;33m.\u001b[0m\u001b[0m_engine\u001b[0m \u001b[1;33m=\u001b[0m \u001b[0mCParserWrapper\u001b[0m\u001b[1;33m(\u001b[0m\u001b[0mself\u001b[0m\u001b[1;33m.\u001b[0m\u001b[0mf\u001b[0m\u001b[1;33m,\u001b[0m \u001b[1;33m**\u001b[0m\u001b[0mself\u001b[0m\u001b[1;33m.\u001b[0m\u001b[0moptions\u001b[0m\u001b[1;33m)\u001b[0m\u001b[1;33m\u001b[0m\u001b[1;33m\u001b[0m\u001b[0m\n\u001b[0m\u001b[0;32m   1015\u001b[0m         \u001b[1;32melse\u001b[0m\u001b[1;33m:\u001b[0m\u001b[1;33m\u001b[0m\u001b[1;33m\u001b[0m\u001b[0m\n\u001b[0;32m   1016\u001b[0m             \u001b[1;32mif\u001b[0m \u001b[0mengine\u001b[0m \u001b[1;33m==\u001b[0m \u001b[1;34m'python'\u001b[0m\u001b[1;33m:\u001b[0m\u001b[1;33m\u001b[0m\u001b[1;33m\u001b[0m\u001b[0m\n",
      "\u001b[1;32mC:\\ProgramData\\Anaconda3\\lib\\site-packages\\pandas\\io\\parsers.py\u001b[0m in \u001b[0;36m__init__\u001b[1;34m(self, src, **kwds)\u001b[0m\n\u001b[0;32m   1706\u001b[0m         \u001b[0mkwds\u001b[0m\u001b[1;33m[\u001b[0m\u001b[1;34m'usecols'\u001b[0m\u001b[1;33m]\u001b[0m \u001b[1;33m=\u001b[0m \u001b[0mself\u001b[0m\u001b[1;33m.\u001b[0m\u001b[0musecols\u001b[0m\u001b[1;33m\u001b[0m\u001b[1;33m\u001b[0m\u001b[0m\n\u001b[0;32m   1707\u001b[0m \u001b[1;33m\u001b[0m\u001b[0m\n\u001b[1;32m-> 1708\u001b[1;33m         \u001b[0mself\u001b[0m\u001b[1;33m.\u001b[0m\u001b[0m_reader\u001b[0m \u001b[1;33m=\u001b[0m \u001b[0mparsers\u001b[0m\u001b[1;33m.\u001b[0m\u001b[0mTextReader\u001b[0m\u001b[1;33m(\u001b[0m\u001b[0msrc\u001b[0m\u001b[1;33m,\u001b[0m \u001b[1;33m**\u001b[0m\u001b[0mkwds\u001b[0m\u001b[1;33m)\u001b[0m\u001b[1;33m\u001b[0m\u001b[1;33m\u001b[0m\u001b[0m\n\u001b[0m\u001b[0;32m   1709\u001b[0m \u001b[1;33m\u001b[0m\u001b[0m\n\u001b[0;32m   1710\u001b[0m         \u001b[0mpassed_names\u001b[0m \u001b[1;33m=\u001b[0m \u001b[0mself\u001b[0m\u001b[1;33m.\u001b[0m\u001b[0mnames\u001b[0m \u001b[1;32mis\u001b[0m \u001b[1;32mNone\u001b[0m\u001b[1;33m\u001b[0m\u001b[1;33m\u001b[0m\u001b[0m\n",
      "\u001b[1;32mpandas\\_libs\\parsers.pyx\u001b[0m in \u001b[0;36mpandas._libs.parsers.TextReader.__cinit__\u001b[1;34m()\u001b[0m\n",
      "\u001b[1;32mpandas\\_libs\\parsers.pyx\u001b[0m in \u001b[0;36mpandas._libs.parsers.TextReader._setup_parser_source\u001b[1;34m()\u001b[0m\n",
      "\u001b[1;31mFileNotFoundError\u001b[0m: File b'h.csv' does not exist"
     ]
    }
   ],
   "source": [
    "import pandas as pd\n",
    "\n",
    "data_frame = pd.read_csv(\"h.csv\", sep=\";\")\n",
    "#print(data_frame)\n",
    "\n",
    "over18 = data_frame[\"age\"] > 19\n",
    "#print(over18)\n",
    "\n",
    "age_filtered_data = data_frame[over18]\n",
    "\n",
    "#print(age_filtered_data)\n",
    "print(len(age_filtered_data))\n",
    "\n",
    "from sklearn.model_selection import train_test_split\n",
    "\n",
    "train_set, test_set = train_test_split(age_filtered_data, test_size=0.2, random_state=123)\n",
    "print(len(train_set), len(test_set))\n",
    "print(train_set.head())\n",
    "print(test_set.head())\n",
    "\n",
    "# Make a copy of the training set\n",
    "working_set = train_set.copy()"
   ]
  },
  {
   "cell_type": "markdown",
   "metadata": {},
   "source": [
    "## Lets plot the data for the training set"
   ]
  },
  {
   "cell_type": "code",
   "execution_count": null,
   "metadata": {},
   "outputs": [],
   "source": [
    "import matplotlib.pyplot as plt\n",
    "plt.scatter(working_set[\"height\"], working_set[\"weight\"])\n",
    "plt.xlabel(\"Height (cm)\")\n",
    "plt.ylabel(\"Weight (kg)\")\n",
    "plt.show()"
   ]
  },
  {
   "cell_type": "markdown",
   "metadata": {},
   "source": [
    "## Lets create a linear regression model"
   ]
  },
  {
   "cell_type": "code",
   "execution_count": null,
   "metadata": {},
   "outputs": [],
   "source": [
    "from sklearn.linear_model import LinearRegression\n",
    "reg = LinearRegression()"
   ]
  },
  {
   "cell_type": "markdown",
   "metadata": {},
   "source": [
    "## Train the model\n",
    "The fit method needs \n",
    "* an array of input values  (X)\n",
    "* a vector of target output values (Y)."
   ]
  },
  {
   "cell_type": "code",
   "execution_count": null,
   "metadata": {},
   "outputs": [],
   "source": [
    "X = working_set[[\"height\"]]\n",
    "Y = working_set[\"weight\"]\n",
    "reg.fit(X, Y)"
   ]
  },
  {
   "cell_type": "markdown",
   "metadata": {},
   "source": [
    "## What are the results?\n",
    "Since this was a linear model with one feature we have two parameters\n",
    "$\\theta_0$ (bias) and $\\theta_1$ (coeficient for the height)\n"
   ]
  },
  {
   "cell_type": "code",
   "execution_count": null,
   "metadata": {},
   "outputs": [],
   "source": [
    "print(\"The bias is \" , reg.intercept_)\n",
    "print(\"The feature coefficients are \", reg.coef_)"
   ]
  },
  {
   "cell_type": "markdown",
   "metadata": {},
   "source": [
    "## Lets plot the line"
   ]
  },
  {
   "cell_type": "code",
   "execution_count": null,
   "metadata": {
    "scrolled": true
   },
   "outputs": [],
   "source": [
    "theta0 = reg.intercept_\n",
    "theta1 = reg.coef_[0]\n",
    "print(theta0, theta1)\n",
    "def the_line(h, bias, coef):\n",
    "    return bias + coef * h\n",
    "\n",
    "min_height = working_set[\"height\"].min()\n",
    "min_weight = the_line(min_height, theta0, theta1)\n",
    "max_height = working_set[\"height\"].max()\n",
    "max_weight = the_line(max_height, theta0, theta1)\n",
    "line_x = [min_height, max_height]\n",
    "line_y = [min_weight, max_weight]\n",
    "\n",
    "\n",
    "import matplotlib.pyplot as plt\n",
    "plt.scatter(working_set[\"height\"], working_set[\"weight\"])\n",
    "plt.xlabel(\"Height (cm)\")\n",
    "plt.ylabel(\"Weight (kg)\")\n",
    "plt.plot(line_x, line_y)\n",
    "plt.show()"
   ]
  },
  {
   "cell_type": "markdown",
   "metadata": {},
   "source": [
    "## Lets display the measure for the model\n",
    "$R^2$ is the coeficient of determination (_Not the same as the correlation coefficient_).  The closer this is to 1, the better the model is.  It gives us the percentage of the variation in the target that is explained by variation in the input"
   ]
  },
  {
   "cell_type": "code",
   "execution_count": 2,
   "metadata": {},
   "outputs": [
    {
     "ename": "NameError",
     "evalue": "name 'reg' is not defined",
     "output_type": "error",
     "traceback": [
      "\u001b[1;31m---------------------------------------------------------------------------\u001b[0m",
      "\u001b[1;31mNameError\u001b[0m                                 Traceback (most recent call last)",
      "\u001b[1;32m<ipython-input-2-f348895dceb9>\u001b[0m in \u001b[0;36m<module>\u001b[1;34m\u001b[0m\n\u001b[1;32m----> 1\u001b[1;33m \u001b[0mprint\u001b[0m\u001b[1;33m(\u001b[0m\u001b[0mreg\u001b[0m\u001b[1;33m.\u001b[0m\u001b[0mscore\u001b[0m\u001b[1;33m(\u001b[0m\u001b[0mX\u001b[0m\u001b[1;33m,\u001b[0m\u001b[0mY\u001b[0m\u001b[1;33m)\u001b[0m\u001b[1;33m)\u001b[0m\u001b[1;33m\u001b[0m\u001b[1;33m\u001b[0m\u001b[0m\n\u001b[0m",
      "\u001b[1;31mNameError\u001b[0m: name 'reg' is not defined"
     ]
    }
   ],
   "source": [
    "print(reg.score(X,Y))"
   ]
  },
  {
   "cell_type": "markdown",
   "metadata": {},
   "source": [
    "55% of the predicted value is determined by the input."
   ]
  },
  {
   "cell_type": "markdown",
   "metadata": {},
   "source": [
    "## Finding the mean squared error\n",
    "Given inputs X and targets y, we can find the mean squared error.  Just use the model to compute predicted values for y and feed the true and predicted values into the metric."
   ]
  },
  {
   "cell_type": "code",
   "execution_count": 18,
   "metadata": {},
   "outputs": [
    {
     "name": "stdout",
     "output_type": "stream",
     "text": [
      "mean squared error is  17.86965706783279\n",
      "The root mean squared error is  4.2272517156933995\n"
     ]
    }
   ],
   "source": [
    "from sklearn.metrics import mean_squared_error\n",
    "y_pred = reg.predict(X)\n",
    "mse = mean_squared_error(Y, y_pred)\n",
    "print(\"mean squared error is \",  mse)\n",
    "\n",
    "from math import sqrt\n",
    "rmse = sqrt(mse)\n",
    "print(\"The root mean squared error is \", rmse)"
   ]
  },
  {
   "cell_type": "markdown",
   "metadata": {},
   "source": [
    "## Showing +/- RMSE on graph"
   ]
  },
  {
   "cell_type": "code",
   "execution_count": 21,
   "metadata": {},
   "outputs": [
    {
     "name": "stdout",
     "output_type": "stream",
     "text": [
      "-47.02773078364886 0.5962284668341677\n"
     ]
    },
    {
     "data": {
      "image/png": "[encoded data removed]",
      "text/plain": [
       "<Figure size 432x288 with 1 Axes>"
      ]
     },
     "metadata": {},
     "output_type": "display_data"
    }
   ],
   "source": [
    "band = 3*rmse\n",
    "\n",
    "theta0 = reg.intercept_\n",
    "theta1 = reg.coef_[0]\n",
    "print(theta0, theta1)\n",
    "def the_line(h, bias, coef):\n",
    "    return bias + coef * h\n",
    "\n",
    "min_height = working_set[\"height\"].min()\n",
    "min_weight = the_line(min_height, theta0, theta1)\n",
    "max_height = working_set[\"height\"].max()\n",
    "max_weight = the_line(max_height, theta0, theta1)\n",
    "line_x = [min_height, max_height]\n",
    "line_y = [min_weight, max_weight]\n",
    "upper_line_y = [min_weight+band, max_weight+band]\n",
    "lower_line_y = [min_weight-band, max_weight-band]\n",
    "\n",
    "\n",
    "import matplotlib.pyplot as plt\n",
    "plt.scatter(working_set[\"height\"], working_set[\"weight\"])\n",
    "plt.xlabel(\"Height (cm)\")\n",
    "plt.ylabel(\"Weight (kg)\")\n",
    "plt.plot(line_x, upper_line_y)\n",
    "plt.plot(line_x, line_y)\n",
    "plt.plot(line_x, lower_line_y)\n",
    "plt.show()"
   ]
  },
  {
   "cell_type": "markdown",
   "metadata": {},
   "source": [
    "## Use the model to make a predictions\n",
    "predict(X)\n",
    "X - an array of input instance"
   ]
  },
  {
   "cell_type": "code",
   "execution_count": 28,
   "metadata": {},
   "outputs": [
    {
     "name": "stdout",
     "output_type": "stream",
     "text": [
      "[-14.23516511  45.38768158  66.25567791]\n",
      "[-41.06544612 -35.10316145 -29.14087678]\n"
     ]
    }
   ],
   "source": [
    "some_heights =[[55], [155], [190]]   # This is an array of input vectors\n",
    "predicted_weights = reg.predict(some_heights)\n",
    "print(predicted_weights)\n"
   ]
  },
  {
   "cell_type": "markdown",
   "metadata": {},
   "source": [
    "## We can use predict to plot as well"
   ]
  },
  {
   "cell_type": "code",
   "execution_count": 5,
   "metadata": {},
   "outputs": [
    {
     "ename": "NameError",
     "evalue": "name 'reg' is not defined",
     "output_type": "error",
     "traceback": [
      "Traceback \u001b[0;36m(most recent call last)\u001b[0m:\n",
      "\u001b[0;36m  File \u001b[0;32m\"<ipython-input-5-b5c1625a10b4>\"\u001b[0;36m, line \u001b[0;32m4\u001b[0;36m, in \u001b[0;35m<module>\u001b[0;36m\u001b[0m\n\u001b[0;31m    line_y = reg.predict([[min_height], [max_height]])\u001b[0m\n",
      "\u001b[0;31mNameError\u001b[0m\u001b[0;31m:\u001b[0m name 'reg' is not defined\n"
     ]
    }
   ],
   "source": [
    "min_height = working_set[\"height\"].min()\n",
    "max_height = working_set[\"height\"].max()\n",
    "line_x = [min_height, max_height]\n",
    "line_y = reg.predict([[min_height], [max_height]])\n",
    "\n",
    "\n",
    "import matplotlib.pyplot as plt\n",
    "plt.scatter(working_set[\"height\"], working_set[\"weight\"])\n",
    "plt.xlabel(\"Height (cm)\")\n",
    "plt.ylabel(\"Weight (kg)\")\n",
    "plt.plot(line_x, line_y, color=\"red\")\n",
    "plt.show()"
   ]
  },
  {
   "cell_type": "markdown",
   "metadata": {},
   "source": [
    "## Adding Features to the regression.  \n",
    "Maybe our prediction will be better if we add\n",
    "more features to the model"
   ]
  },
  {
   "cell_type": "markdown",
   "metadata": {},
   "source": [
    "### Adding gender into the input"
   ]
  },
  {
   "cell_type": "code",
   "execution_count": 63,
   "metadata": {},
   "outputs": [
    {
     "name": "stdout",
     "output_type": "stream",
     "text": [
      "0.5558768412728512\n"
     ]
    }
   ],
   "source": [
    "from sklearn.linear_model import LinearRegression\n",
    "reg_plus_gender = LinearRegression()\n",
    "\n",
    "X = working_set[[\"height\", \"male\"]]\n",
    "Y = working_set[\"weight\"]\n",
    "reg_plus_gender.fit(X, Y)\n",
    "\n",
    "print(reg_plus_gender.score(X,Y))"
   ]
  },
  {
   "cell_type": "markdown",
   "metadata": {},
   "source": [
    "### We did slightly better"
   ]
  },
  {
   "cell_type": "markdown",
   "metadata": {},
   "source": [
    "### Making the curve fitting a quadratic\n",
    "We can creat a new feature which is based on old features... In particular, we\n",
    "add a feature that is the height squared. This allows us to fit a quadratic"
   ]
  },
  {
   "cell_type": "code",
   "execution_count": 64,
   "metadata": {},
   "outputs": [
    {
     "name": "stdout",
     "output_type": "stream",
     "text": [
      "0.5579180772423258\n"
     ]
    },
    {
     "data": {
      "image/png": "[encoded data removed]",
      "text/plain": [
       "<Figure size 432x288 with 1 Axes>"
      ]
     },
     "metadata": {},
     "output_type": "display_data"
    }
   ],
   "source": [
    "from sklearn.linear_model import LinearRegression\n",
    "reg_plus_quad = LinearRegression()\n",
    "\n",
    "X = working_set[[\"height\"]]\n",
    "Y = working_set[\"weight\"]\n",
    "\n",
    "from sklearn.preprocessing import PolynomialFeatures\n",
    "create_quad_terms = PolynomialFeatures(degree=2, include_bias=False)\n",
    "X_quad_terms = create_quad_terms.fit_transform(X)\n",
    "\n",
    "                \n",
    "                \n",
    "reg_plus_quad.fit(X_quad_terms, Y)\n",
    "\n",
    "print(reg_plus_quad.score(X_quad_terms,Y))\n",
    "\n",
    "min_height = working_set[\"height\"].min()\n",
    "max_height = working_set[\"height\"].max()\n",
    "points = 1000\n",
    "delta = (max_height-min_height)/points\n",
    "quad_x = [min_height + i*delta for i in range(points)]\n",
    "inputs = [[h, h*h] for h in quad_x]\n",
    "quad_y = reg_plus_quad.predict(inputs)\n",
    "\n",
    "\n",
    "import matplotlib.pyplot as plt\n",
    "plt.scatter(working_set[\"height\"], working_set[\"weight\"])\n",
    "plt.xlabel(\"Height (cm)\")\n",
    "plt.ylabel(\"Weight (kg)\")\n",
    "plt.plot(quad_x, quad_y, color=\"red\")\n",
    "plt.show()"
   ]
  },
  {
   "cell_type": "markdown",
   "metadata": {},
   "source": [
    "### Creeping upwards!"
   ]
  },
  {
   "cell_type": "markdown",
   "metadata": {},
   "source": [
    "### Lets try a cubic model"
   ]
  },
  {
   "cell_type": "code",
   "execution_count": 65,
   "metadata": {},
   "outputs": [
    {
     "name": "stdout",
     "output_type": "stream",
     "text": [
      "0.5633742912374231\n"
     ]
    },
    {
     "data": {
      "image/png": "[encoded data removed]",
      "text/plain": [
       "<Figure size 432x288 with 1 Axes>"
      ]
     },
     "metadata": {},
     "output_type": "display_data"
    }
   ],
   "source": [
    "from sklearn.linear_model import LinearRegression\n",
    "reg_plus_cube = LinearRegression()\n",
    "\n",
    "X = working_set[[\"height\"]]\n",
    "Y = working_set[\"weight\"]\n",
    "\n",
    "from sklearn.preprocessing import PolynomialFeatures\n",
    "create_cube_terms = PolynomialFeatures(degree=3, include_bias=False)\n",
    "X_cube_terms = create_cube_terms.fit_transform(X)\n",
    "\n",
    "                \n",
    "                \n",
    "reg_plus_cube.fit(X_cube_terms, Y)\n",
    "\n",
    "print(reg_plus_cube.score(X_cube_terms,Y))\n",
    "\n",
    "min_height = working_set[\"height\"].min()\n",
    "max_height = working_set[\"height\"].max()\n",
    "points = 1000\n",
    "delta = (max_height-min_height)/points\n",
    "cube_x = [min_height + i*delta for i in range(points)]\n",
    "inputs = [[h, h*h, h**3] for h in cube_x]\n",
    "cube_y = reg_plus_cube.predict(inputs)\n",
    "\n",
    "import matplotlib.pyplot as plt\n",
    "plt.scatter(working_set[\"height\"], working_set[\"weight\"])\n",
    "plt.xlabel(\"Height (cm)\")\n",
    "plt.ylabel(\"Weight (kg)\")\n",
    "plt.plot(cube_x, cube_y, color=\"red\")\n",
    "plt.show()"
   ]
  },
  {
   "cell_type": "markdown",
   "metadata": {},
   "source": [
    "## Lets evaluate the model on my test set"
   ]
  },
  {
   "cell_type": "code",
   "execution_count": 66,
   "metadata": {},
   "outputs": [
    {
     "name": "stdout",
     "output_type": "stream",
     "text": [
      "0.5851783512790647\n"
     ]
    }
   ],
   "source": [
    "X = test_set[[\"height\"]]\n",
    "Y = test_set[\"weight\"]\n",
    "\n",
    "from sklearn.preprocessing import PolynomialFeatures\n",
    "create_cube_terms = PolynomialFeatures(degree=3, include_bias=False)\n",
    "X_cube_terms = create_cube_terms.fit_transform(X)\n",
    "\n",
    "\n",
    "print(reg_plus_cube.score(X_cube_terms, Y))"
   ]
  },
  {
   "cell_type": "markdown",
   "metadata": {},
   "source": [
    "## One final thing to try.\n",
    "Lets use the cubic model and apply it to adults and children"
   ]
  },
  {
   "cell_type": "code",
   "execution_count": 67,
   "metadata": {},
   "outputs": [
    {
     "name": "stdout",
     "output_type": "stream",
     "text": [
      "435 109\n",
      "      height     weight   age  male\n",
      "55    97.790  12.757275   5.0     0\n",
      "543  158.750  52.531624  68.0     1\n",
      "287  167.005  50.603858  49.0     1\n",
      "166  141.605  44.338618  24.0     0\n",
      "132  163.195  53.098613  22.0     1\n",
      "      height     weight   age  male\n",
      "138  141.605  29.313383  15.0     1\n",
      "308  157.480  49.214732  18.0     0\n",
      "440   64.135   6.662132   1.0     0\n",
      "282  147.320  35.947166  40.0     0\n",
      "356  152.400  43.544832  63.0     0\n",
      "0.9327619061923519\n"
     ]
    },
    {
     "data": {
      "image/png": "[encoded data removed]",
      "text/plain": [
       "<Figure size 432x288 with 1 Axes>"
      ]
     },
     "metadata": {},
     "output_type": "display_data"
    }
   ],
   "source": [
    "import pandas as pd\n",
    "\n",
    "data_frame = pd.read_csv(\"h.csv\", sep=\";\")\n",
    "#print(data_frame)\n",
    "\n",
    "\n",
    "from sklearn.model_selection import train_test_split\n",
    "\n",
    "train_set, test_set = train_test_split(data_frame, test_size=0.2, random_state=123)\n",
    "print(len(train_set), len(test_set))\n",
    "print(train_set.head())\n",
    "print(test_set.head())\n",
    "\n",
    "# Make a copy of the training set\n",
    "working_set = train_set.copy()\n",
    "\n",
    "from sklearn.linear_model import LinearRegression\n",
    "reg_plus_cube = LinearRegression()\n",
    "\n",
    "X = working_set[[\"height\"]]\n",
    "Y = working_set[\"weight\"]\n",
    "\n",
    "from sklearn.preprocessing import PolynomialFeatures\n",
    "create_cube_terms = PolynomialFeatures(degree=3, include_bias=False)\n",
    "X_cube_terms = create_cube_terms.fit_transform(X)\n",
    "                \n",
    "                \n",
    "reg_plus_cube.fit(X_cube_terms, Y)\n",
    "\n",
    "print(reg_plus_cube.score(X_cube_terms,Y))\n",
    "\n",
    "min_height = working_set[\"height\"].min()\n",
    "max_height = working_set[\"height\"].max()\n",
    "points = 1000\n",
    "delta = (max_height-min_height)/points\n",
    "cube_x = [min_height + i*delta for i in range(points)]\n",
    "inputs = [[h, h*h, h**3] for h in  cube_x]\n",
    "cube_y = reg_plus_cube.predict(inputs)\n",
    "\n",
    "import matplotlib.pyplot as plt\n",
    "plt.scatter(working_set[\"height\"], working_set[\"weight\"])\n",
    "plt.xlabel(\"Height (cm)\")\n",
    "plt.ylabel(\"Weight (kg)\")\n",
    "plt.plot(cube_x, cube_y, color=\"red\")\n",
    "plt.show()"
   ]
  },
  {
   "cell_type": "markdown",
   "metadata": {},
   "source": [
    "## Lets see how it scores on the age filtered data"
   ]
  },
  {
   "cell_type": "code",
   "execution_count": 68,
   "metadata": {},
   "outputs": [
    {
     "name": "stdout",
     "output_type": "stream",
     "text": [
      "0.5368250903340627\n"
     ]
    }
   ],
   "source": [
    "X = age_filtered_data[[\"height\"]]\n",
    "Y = age_filtered_data[\"weight\"]\n",
    "\n",
    "from sklearn.preprocessing import PolynomialFeatures\n",
    "create_cube_terms = PolynomialFeatures(degree=3, include_bias=False)\n",
    "X_cube_terms = create_cube_terms.fit_transform(X)\n",
    "\n",
    "print(reg_plus_cube.score(X_cube_terms,Y))\n"
   ]
  }
 ],
 "metadata": {
  "kernelspec": {
   "display_name": "Python 3",
   "language": "python",
   "name": "python3"
  },
  "language_info": {
   "codemirror_mode": {
    "name": "ipython",
    "version": 3
   },
   "file_extension": ".py",
   "mimetype": "text/x-python",
   "name": "python",
   "nbconvert_exporter": "python",
   "pygments_lexer": "ipython3",
   "version": "3.7.1"
  }
 },
 "nbformat": 4,
 "nbformat_minor": 2
}
