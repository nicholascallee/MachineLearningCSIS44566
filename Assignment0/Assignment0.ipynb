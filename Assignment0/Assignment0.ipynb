{
 "cells": [
  {
   "cell_type": "markdown",
   "metadata": {},
   "source": [
    "# Assignment 0 - GitHub classroom and  a tiny bit of python."
   ]
  },
  {
   "cell_type": "markdown",
   "metadata": {},
   "source": [
    "## Part 1\n",
    "* Assign the string \"Hello World\" to the variable message.\n",
    "* Print message.\n",
    "\n",
    "What i you run the following code after your code\n",
    "```Python\n",
    "message = 2 + message + 5\n",
    "```\n",
    "what is your result?  Explain, the result."
   ]
  },
  {
   "cell_type": "code",
   "execution_count": 1,
   "metadata": {},
   "outputs": [
    {
     "name": "stdout",
     "output_type": "stream",
     "text": [
      "Hello world\n",
      "2Hello world5\n"
     ]
    }
   ],
   "source": [
    "message =\"Hello world\"\n",
    "print(message)\n",
    "\"\"\"message = 2 + message + 5\"\"\"\n",
    "message = str(2)+message+str(5)\n",
    "print (message)"
   ]
  },
  {
   "cell_type": "markdown",
   "metadata": {},
   "source": [
    "the 2 and the 5 must be typecasted to strings because you cannot concatonate a string with an int."
   ]
  },
  {
   "cell_type": "markdown",
   "metadata": {},
   "source": [
    "## Bonus\n",
    "* Prompt the user for a name and assign the value to a variable.\n",
    "* Print \"Hello\" followed by the name"
   ]
  },
  {
   "cell_type": "code",
   "execution_count": 2,
   "metadata": {},
   "outputs": [
    {
     "name": "stdout",
     "output_type": "stream",
     "text": [
      "What is your name.nick\n",
      "hello nick\n"
     ]
    }
   ],
   "source": [
    "name = input(\"What is your name.\")\n",
    "print(\"hello \" + name)"
   ]
  },
  {
   "cell_type": "code",
   "execution_count": null,
   "metadata": {},
   "outputs": [],
   "source": []
  }
 ],
 "metadata": {
  "kernelspec": {
   "display_name": "Python 3",
   "language": "python",
   "name": "python3"
  },
  "language_info": {
   "codemirror_mode": {
    "name": "ipython",
    "version": 3
   },
   "file_extension": ".py",
   "mimetype": "text/x-python",
   "name": "python",
   "nbconvert_exporter": "python",
   "pygments_lexer": "ipython3",
   "version": "3.7.1"
  }
 },
 "nbformat": 4,
 "nbformat_minor": 2
}
