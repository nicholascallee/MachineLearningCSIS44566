{
 "cells": [
  {
   "cell_type": "markdown",
   "metadata": {},
   "source": [
    "## Assignment 2 - Structures and Functions"
   ]
  },
  {
   "cell_type": "markdown",
   "metadata": {},
   "source": [
    "## Part 1\n",
    "* Create a function `factorial` which takes a single argument n.  n! is the product of the integer values from 1 to n. \n",
    "(_Note: 0! is defined to be 1._)"
   ]
  },
  {
   "cell_type": "code",
   "execution_count": 28,
   "metadata": {},
   "outputs": [],
   "source": [
    "def factorial(n):\n",
    "    fact = 1\n",
    "    for i in range(1,n+1):\n",
    "        fact = fact*i\n",
    "    return fact\n"
   ]
  },
  {
   "cell_type": "markdown",
   "metadata": {},
   "source": [
    "## Part 2\n",
    "* Create a function `get_pi` which takes a single argument n that defaults to 4 and is the number of terms to use in your computation. Use the first n terms of the sequence\n",
    "\n",
    "$pi = 4 [1 - 1/3 + 1/5 - 1/7 + 1/9 - 1/11 + ...]$\n",
    "\n",
    "* Create a function `e_to_the_x` with two arguments x and n (the number of terms to use.)  Compute the approximation to $e^x$ and compare with `e**x`. Use the sequence \n",
    "\n",
    "$e^x = 1 + x + x^2/2! + x^3/3! + x^4/4! + ...$\n"
   ]
  },
  {
   "cell_type": "code",
   "execution_count": 7,
   "metadata": {},
   "outputs": [
    {
     "name": "stdout",
     "output_type": "stream",
     "text": [
      "3.3396825396825403\n",
      "3.0418396189294032\n",
      "3.139592655589785\n"
     ]
    }
   ],
   "source": [
    "def get_pi(n=4):\n",
    "    pi = 1\n",
    "    divisor = 3\n",
    "    for i in range(1,n):\n",
    "        if (i%2 == 0):\n",
    "            pi = pi + (1/divisor) \n",
    "        if (i%2 ==1):\n",
    "            pi = pi - (1/divisor) \n",
    "\n",
    "        divisor += 2\n",
    "    pi *= 4\n",
    "    return(pi)\n",
    "print(get_pi(5))\n",
    "print(get_pi(10))\n",
    "print(get_pi(500))"
   ]
  },
  {
   "cell_type": "code",
   "execution_count": 4,
   "metadata": {},
   "outputs": [],
   "source": [
    "def e_to_the_x(x,n):\n",
    "    e = 1 + x\n",
    "    divisor = 2\n",
    "    for l in range(1,n):\n",
    "        e += pow(x,divisor)/factorial(divisor)\n",
    "        divisor+=1\n",
    "    return(e)"
   ]
  },
  {
   "cell_type": "code",
   "execution_count": 31,
   "metadata": {},
   "outputs": [
    {
     "name": "stdout",
     "output_type": "stream",
     "text": [
      "12842.305114638448\n",
      "10000000000\n"
     ]
    }
   ],
   "source": [
    "print(e_to_the_x(10,10))\n",
    "print(10**10)\n",
    "\n",
    "#not sure if i did this correctly"
   ]
  },
  {
   "cell_type": "markdown",
   "metadata": {},
   "source": [
    "## Part 3\n",
    "* Implement Euclid's algorithm to compute the GCD (Greatest Common Divisor) of two non-negative integer values.  Here is the recursive formula:\n",
    "\n",
    "$GCD(A,B) = \\left\\{ \n",
    "\\begin{array}{ll}\n",
    "A & if B=0\\\\\n",
    "GCD(B,A) & if B>A\\\\ \n",
    "GCD(B, B~mod~A) & otherwise\n",
    "\\end{array}\n",
    "\\right. $\n"
   ]
  },
  {
   "cell_type": "code",
   "execution_count": 1,
   "metadata": {},
   "outputs": [
    {
     "name": "stdout",
     "output_type": "stream",
     "text": [
      "1\n"
     ]
    }
   ],
   "source": [
    "def euclidGCD(a,b):\n",
    "    while (b!= 0):\n",
    "        if (a>b):\n",
    "            a = a-b\n",
    "        else:\n",
    "            b=b-a\n",
    "    return a;\n"
   ]
  },
  {
   "cell_type": "markdown",
   "metadata": {},
   "source": [
    "## Part 4\n",
    "* Write a function `counter` that will take a list and a value k. Compute the number of values >, <, = to k. Return the result as a tuple.\n",
    "* Write a function `bounds` that will compute the min, max of a list of values. Return the result as a pair.\n",
    "* Write a function `median` that will compute the median of a list of numbers.  Sort the list.  If the length is odd, return the middle value.  If the length is even, return the average of the upper and lower medians.  Example:  The median of 1, 2, 3, 5, 11, 12 is the average of 3 and 5."
   ]
  },
  {
   "cell_type": "code",
   "execution_count": 49,
   "metadata": {},
   "outputs": [],
   "source": [
    "def counter(myList,k):\n",
    "    less =0\n",
    "    same =0\n",
    "    more =0\n",
    "    for i in range(1, len(myList)):\n",
    "        if (i<k):\n",
    "            less+=1\n",
    "        if (i==k):\n",
    "            same+=1\n",
    "        if (i>k):\n",
    "            more+=1\n",
    "    nums = [less,same,more]\n",
    "    states = [\"<\",\"==\",\">\"]\n",
    "    tuple = (less,same,more)\n",
    "    return tuple\n",
    "    #return zip(nums,states)"
   ]
  },
  {
   "cell_type": "code",
   "execution_count": 37,
   "metadata": {},
   "outputs": [],
   "source": [
    "def bounds(myList):\n",
    "    big=0\n",
    "    little=99999999999999999999999\n",
    "    for i in myList:\n",
    "        if (i > big):\n",
    "            big = i\n",
    "        if (i<little):\n",
    "            little = i\n",
    "    pair = (big, little)\n",
    "    return pair\n"
   ]
  },
  {
   "cell_type": "code",
   "execution_count": 23,
   "metadata": {
    "scrolled": true
   },
   "outputs": [],
   "source": [
    "def median(myList):\n",
    "    myList.sort()\n",
    "    if (len(myList)%2== 1 ):\n",
    "        return myList[len(myList)//2]\n",
    "    else:\n",
    "        number = len(myList)//2\n",
    "        nother = myList[number]\n",
    "        other = myList[number-1]\n",
    "        return (nother+other) / 2\n",
    "        \n",
    "        \"\"\"return myList[\n",
    "            int(len(myList)//2)] + myList[int(len(myList)/2+1)] // 2\"\"\"\n",
    "        "
   ]
  },
  {
   "cell_type": "markdown",
   "metadata": {},
   "source": [
    "## Part 5\n",
    "* Write a function `word_count` that takes in a string and will use a dictionary to count the number of times each word appears in the string. Use a dict to keep the counts for each word."
   ]
  },
  {
   "cell_type": "code",
   "execution_count": 12,
   "metadata": {},
   "outputs": [
    {
     "name": "stdout",
     "output_type": "stream",
     "text": [
      "{'hello': 2, 'world': 2, 'this': 2, 'is': 2, 'you': 1, 'me': 1, 'h': 1, 'd': 1, 'dvv': 1, 'vd': 1, 'dd': 1, 'seven': 2}\n"
     ]
    }
   ],
   "source": [
    "def word_count(userString):\n",
    "    stringList = userString.split()\n",
    "    length = len(stringList)\n",
    "    count = 0\n",
    "    wordCountDict = {}\n",
    "    for word in stringList:\n",
    "        wordCountDict[word] = 1 \n",
    "        for i in range(0,length):\n",
    "            if (i != count):\n",
    "                if (stringList[i] == word):\n",
    "                    wordCountDict[word] += 1\n",
    "        count +=1\n",
    "    return wordCountDict\n",
    "thisString = \"hello world hello world this is this is you me h d dvv vd dd seven seven\"\n",
    "print(word_count(thisString))"
   ]
  },
  {
   "cell_type": "markdown",
   "metadata": {},
   "source": [
    "## Part 6\n",
    "Do at least three calls on each function you created to verify the correct operation."
   ]
  },
  {
   "cell_type": "code",
   "execution_count": 40,
   "metadata": {},
   "outputs": [
    {
     "name": "stdout",
     "output_type": "stream",
     "text": [
      "24\n",
      "479001600\n",
      "25852016738884976640000\n"
     ]
    }
   ],
   "source": [
    "print(factorial(4))\n",
    "print(factorial(12))\n",
    "print(factorial(23))"
   ]
  },
  {
   "cell_type": "code",
   "execution_count": 41,
   "metadata": {},
   "outputs": [
    {
     "name": "stdout",
     "output_type": "stream",
     "text": [
      "2.8952380952380956\n",
      "3.1416226538897942\n",
      "3.1370472225223187\n"
     ]
    }
   ],
   "source": [
    "print(get_pi())\n",
    "print(get_pi(33333))\n",
    "print(get_pi(220))"
   ]
  },
  {
   "cell_type": "code",
   "execution_count": 42,
   "metadata": {},
   "outputs": [
    {
     "name": "stdout",
     "output_type": "stream",
     "text": [
      "2\n",
      "12842.305114638448\n",
      "6.82503538904422e+67\n"
     ]
    }
   ],
   "source": [
    "print(e_to_the_x(1,1))\n",
    "print(e_to_the_x(10,10))\n",
    "print(e_to_the_x(190,92))"
   ]
  },
  {
   "cell_type": "code",
   "execution_count": 43,
   "metadata": {},
   "outputs": [
    {
     "name": "stdout",
     "output_type": "stream",
     "text": [
      "30\n",
      "2\n",
      "2\n"
     ]
    }
   ],
   "source": [
    "print(euclidGCD(750,540))\n",
    "print(euclidGCD(14,550))\n",
    "print(euclidGCD(106,382))"
   ]
  },
  {
   "cell_type": "code",
   "execution_count": 51,
   "metadata": {
    "scrolled": true
   },
   "outputs": [
    {
     "name": "stdout",
     "output_type": "stream",
     "text": [
      "(2, 1, 13)\n",
      "(11, 0, 0)\n",
      "(28, 0, 0)\n"
     ]
    }
   ],
   "source": [
    "l = [1,2,3,4,5,6,34534,3,4,5,22,4,33,22,43,56,5]\n",
    "b = [123,3234,42345,8,56,4,46,57,57,66,68,656]\n",
    "print(counter(l,3))\n",
    "print(counter(b,34))\n",
    "print(counter(l+b,66))"
   ]
  },
  {
   "cell_type": "code",
   "execution_count": 53,
   "metadata": {},
   "outputs": [
    {
     "name": "stdout",
     "output_type": "stream",
     "text": [
      "(34534, 1)\n",
      "(42345, 4)\n",
      "(42345, 1)\n"
     ]
    }
   ],
   "source": [
    "l = [1,2,3,4,5,6,34534,3,4,5,22,4,33,22,43,56,5]\n",
    "b = [123,3234,42345,8,56,4,46,57,57,66,68,656]\n",
    "print(bounds(l))\n",
    "print(bounds(b))\n",
    "print(bounds(l+b))"
   ]
  },
  {
   "cell_type": "code",
   "execution_count": 25,
   "metadata": {},
   "outputs": [
    {
     "name": "stdout",
     "output_type": "stream",
     "text": [
      "5\n",
      "6\n",
      "61.5\n",
      "22\n",
      "2\n",
      "3.5\n"
     ]
    }
   ],
   "source": [
    "l = [1,2,3,4,5,6,34534,3,4,5,22,4,33,22,43,56,5]\n",
    "b = [123,3234,42345,8,56,4,46,57,57,66,68,656]\n",
    "f = [1,3,4,7]\n",
    "print(median(l))\n",
    "print(median(b))\n",
    "print(median(l+b))\n",
    "print(median(f))\n"
   ]
  },
  {
   "cell_type": "markdown",
   "metadata": {},
   "source": [
    "## Bonus\n",
    "* Go online and find a different infinite sequence (or product) that converges to pi and implement a function `get_pi_alt` that uses the sequence.\n",
    "\n",
    "* Create a markdown that uses latex (you can see examples of it surrounded by $ in this notebook. Show the sequence you used."
   ]
  },
  {
   "cell_type": "code",
   "execution_count": 26,
   "metadata": {},
   "outputs": [
    {
     "name": "stdout",
     "output_type": "stream",
     "text": [
      "3.141592653589793\n"
     ]
    }
   ],
   "source": [
    "def get_pi_alt(n=4):\n",
    "    piItorator = 141592653589793238462643383279502884197169399375105820974944592307816406286208998628034825342117067982148086513282306647093844609550582231725359408128481117450284102701938521105559644622948954930381964428810975665933446128475648233786783165271201909145648566923460348610454326648213393607260249141273724587006606315588174881520920962829254091715364367892590360011330530548820466521384146951941511609433057270365759591953092186117381932611793105118548074462379962749567351885752724891227938183011949129833673362440656643086021394946395224737190702179860943702770539217176293176752384674818467669405132000568127145263560827785771342757789609173637178721468440901224953430146549585371050792279689258923542019956112129021960864034418159813629774771309960518707211349999998372978049951059731732816096318595024459455346908302642522308253344685035261931188171010003137838752886587533208381420617177669147303598253490428755468731159562863882353787593751957781857780532171226806613001927876611195909216420198\n",
    "    piItoratorList = list(str(piItorator))\n",
    "    pi = 3 + (1/10)\n",
    "    for i in range(1,n):\n",
    "        pi+= (int(piItoratorList[i])/pow(10,i+1))\n",
    "    return pi\n",
    "print(get_pi_alt(400))\n",
    "\n",
    "\n",
    "#does not work yet"
   ]
  },
  {
   "cell_type": "markdown",
   "metadata": {},
   "source": [
    "`if i use tildas in markdown i can get grey around my text`"
   ]
  }
 ],
 "metadata": {
  "kernelspec": {
   "display_name": "Python 3",
   "language": "python",
   "name": "python3"
  },
  "language_info": {
   "codemirror_mode": {
    "name": "ipython",
    "version": 3
   },
   "file_extension": ".py",
   "mimetype": "text/x-python",
   "name": "python",
   "nbconvert_exporter": "python",
   "pygments_lexer": "ipython3",
   "version": "3.7.1"
  }
 },
 "nbformat": 4,
 "nbformat_minor": 2
}
